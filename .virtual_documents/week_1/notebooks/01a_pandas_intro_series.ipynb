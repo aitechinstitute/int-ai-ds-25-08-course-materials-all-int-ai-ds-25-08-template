








# Week 0 way - calculating average temperature
temps = [22.5, 23.1, 21.8, 24.2, 22.9]
avg_temp = sum(temps) / len(temps)
print(f"Average (Python list): {avg_temp:.2f}°C")

# What if we want temps above 23?
above_23 = [t for t in temps if t > 23]
print(f"Temps > 23: {above_23}")


# Week 1 way - with Pandas!
import pandas as pd
import numpy as np

# Create a Series (like a smart list with superpowers)
temps_series = pd.Series([22.5, 23.1, 21.8, 24.2, 22.9])
print("Pandas Series:")
print(temps_series)
print(f"\nAverage (Pandas): {temps_series.mean():.2f}°C")
print(f"\nTemps > 23:")
print(temps_series[temps_series > 23])





# Your turn









# Create a Series with custom index
cities = ['Perth', 'Sydney', 'Melbourne', 'Brisbane', 'Adelaide']
populations = [2.1, 5.3, 5.0, 2.6, 1.4]  # in millions

pop_series = pd.Series(populations, index=cities, name='Population (M)')
print(pop_series)
print(f"\nPerth population: {pop_series['Perth']}M")
print(f"\nCities over 3M:")
print(pop_series[pop_series > 3])





# Your turn









# Mathematical operations work element-wise
prices = pd.Series([99.99, 149.99, 199.99, 79.99], 
                   index=['Basic', 'Standard', 'Premium', 'Student'])

# Apply 20% discount
discounted = prices * 0.8
print("Original prices:")
print(prices)
print("\nAfter 20% discount:")
print(discounted.round(2))

# Useful methods
print(f"\nPrice stats:")
print(f"Mean: ${prices.mean():.2f}")
print(f"Median: ${prices.median():.2f}")
print(f"Std Dev: ${prices.std():.2f}")





# Real data often has missing values
sales = pd.Series([1200, None, 1450, 980, None, 1680],
                  index=['Mon', 'Tue', 'Wed', 'Thu', 'Fri', 'Sat'])
print("Sales with missing data:")
print(sales)
print(f"\nCount of missing: {sales.isna().sum()}")
print(f"Mean (ignoring NaN): ${sales.mean():.2f}")

# Fill missing values
sales_filled = sales.fillna(sales.mean())
print("\nAfter filling with mean:")
print(sales_filled.round(2))





# Your turn
# temps = pd.Series([22.5, None, 24.1, 23.8, None, 25.2, 21.9],
#                   index=['Mon', 'Tue', 'Wed', 'Thu', 'Fri', 'Sat', 'Sun'])









# Pandas aligns by index automatically!
q1_sales = pd.Series({'Product_A': 100, 'Product_B': 150, 'Product_C': 200})
q2_sales = pd.Series({'Product_B': 180, 'Product_C': 220, 'Product_D': 90})

print("Q1 Sales:")
print(q1_sales)
print("\nQ2 Sales:")
print(q2_sales)

# Addition aligns by index
total_sales = q1_sales.add(q2_sales, fill_value=0)
print("\nTotal Sales (Q1 + Q2):")
print(total_sales)





# Your turn
# prices = pd.Series({'Laptop': 1200, 'Mouse': 25, 'Keyboard': 80, 'Monitor': 350})
# quantities = pd.Series({'Laptop': 5, 'Mouse': 45, 'Keyboard': 30, 'Webcam': 15})









# Your turn - try the challenges!







