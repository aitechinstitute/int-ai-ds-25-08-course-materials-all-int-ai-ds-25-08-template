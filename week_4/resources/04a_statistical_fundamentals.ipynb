{
 "cells": [
  {
   "cell_type": "markdown",
   "id": "6e8287c6",
   "metadata": {},
   "source": [
    "# **AI TECH INSTITUTE** · *Intermediate AI & Data Science*\n",
    "### Week 04 · Notebook 01 – Statistical Fundamentals\n",
    "**Instructor:** Amir Charkhi  |  **Goal:** Master core statistical concepts for data-driven decisions.\n",
    "\n",
    "> Format: short theory → quick practice → build understanding → mini-challenges.\n"
   ]
  },
  {
   "cell_type": "markdown",
   "id": "4a35e8bb",
   "metadata": {},
   "source": [
    "---\n",
    "## Learning Objectives\n",
    "- Understand measures of central tendency and spread\n",
    "- Master probability distributions with real data\n",
    "- Calculate confidence intervals\n",
    "- Prepare for hypothesis testing"
   ]
  },
  {
   "cell_type": "markdown",
   "id": "ade0238f",
   "metadata": {},
   "source": [
    "## 1. Central Tendency: Beyond the Average\n",
    "Let's explore mean, median, and mode with real scenarios."
   ]
  },
  {
   "cell_type": "code",
   "execution_count": null,
   "id": "e6f18528",
   "metadata": {},
   "outputs": [],
   "source": [
    "import pandas as pd\n",
    "import numpy as np\n",
    "import matplotlib.pyplot as plt\n",
    "import seaborn as sns\n",
    "\n",
    "# Set style for nice plots\n",
    "sns.set_style('whitegrid')\n",
    "plt.rcParams['figure.figsize'] = (8, 4)"
   ]
  },
  {
   "cell_type": "code",
   "execution_count": null,
   "id": "22fa7fcb",
   "metadata": {},
   "outputs": [],
   "source": [
    "# Income data with outliers (realistic scenario)\n",
    "incomes = [45000, 52000, 48000, 51000, 47000, 53000, 49000, 250000]  # CEO salary!\n",
    "\n",
    "print(f\"Mean income: ${np.mean(incomes):,.2f}\")\n",
    "print(f\"Median income: ${np.median(incomes):,.2f}\")"
   ]
  },
  {
   "cell_type": "code",
   "execution_count": null,
   "id": "da6e4326",
   "metadata": {},
   "outputs": [],
   "source": [
    "# Which is more representative?\n",
    "print(f\"Without outlier:\")\n",
    "normal_incomes = incomes[:-1]  # Remove CEO\n",
    "print(f\"Mean: ${np.mean(normal_incomes):,.2f}\")\n",
    "print(f\"Median: ${np.median(normal_incomes):,.2f}\")"
   ]
  },
  {
   "cell_type": "markdown",
   "id": "5b4f40a1",
   "metadata": {},
   "source": [
    "**Exercise 1 – Website Load Times (easy)**  \n",
    "Calculate mean and median for load times. Which metric should you report to stakeholders?\n"
   ]
  },
  {
   "cell_type": "code",
   "execution_count": null,
   "id": "741c1c71",
   "metadata": {},
   "outputs": [],
   "source": [
    "# Your turn\n",
    "# load_times = [0.8, 1.2, 0.9, 1.1, 0.7, 0.8, 15.3, 0.9, 1.0]  # seconds\n"
   ]
  },
  {
   "cell_type": "markdown",
   "id": "5265e60a",
   "metadata": {},
   "source": [
    "<details>\n",
    "<summary><b>Solution</b></summary>\n",
    "\n",
    "```python\n",
    "load_times = [0.8, 1.2, 0.9, 1.1, 0.7, 0.8, 15.3, 0.9, 1.0]  # seconds\n",
    "print(f\"Mean load time: {np.mean(load_times):.2f}s\")\n",
    "print(f\"Median load time: {np.median(load_times):.2f}s\")\n",
    "print(\"\\nRecommendation: Use median for reporting as it's robust to outliers.\")\n",
    "print(f\"The 15.3s outlier (timeout?) skews the mean but not the median.\")\n",
    "```\n",
    "</details>"
   ]
  },
  {
   "cell_type": "markdown",
   "id": "582c78e3",
   "metadata": {},
   "source": [
    "## 2. Measuring Spread: Variance & Standard Deviation\n",
    "Understanding how spread out your data is."
   ]
  },
  {
   "cell_type": "code",
   "execution_count": null,
   "id": "dd91af14",
   "metadata": {},
   "outputs": [],
   "source": [
    "# Two teams with same average performance\n",
    "team_a_scores = [75, 76, 74, 75, 76, 74, 75, 75]  # Consistent\n",
    "team_b_scores = [60, 90, 65, 85, 70, 80, 75, 75]  # Variable\n",
    "\n",
    "print(f\"Team A - Mean: {np.mean(team_a_scores):.1f}, Std: {np.std(team_a_scores):.1f}\")\n",
    "print(f\"Team B - Mean: {np.mean(team_b_scores):.1f}, Std: {np.std(team_b_scores):.1f}\")"
   ]
  },
  {
   "cell_type": "code",
   "execution_count": null,
   "id": "948a3661",
   "metadata": {},
   "outputs": [],
   "source": [
    "# Visualize the difference\n",
    "fig, (ax1, ax2) = plt.subplots(1, 2, figsize=(10, 4))\n",
    "\n",
    "ax1.hist(team_a_scores, bins=10, alpha=0.7, color='blue', edgecolor='black')\n",
    "ax1.set_title('Team A (Consistent)')\n",
    "ax1.set_xlabel('Score')\n",
    "\n",
    "ax2.hist(team_b_scores, bins=10, alpha=0.7, color='red', edgecolor='black')\n",
    "ax2.set_title('Team B (Variable)')\n",
    "ax2.set_xlabel('Score')\n",
    "\n",
    "plt.tight_layout()\n",
    "plt.show()"
   ]
  },
  {
   "cell_type": "markdown",
   "id": "b93cc6d3",
   "metadata": {},
   "source": [
    "**Exercise 2 – Customer Wait Times (medium)**  \n",
    "Compare variability between two service centers. Which is more predictable?\n"
   ]
  },
  {
   "cell_type": "code",
   "execution_count": null,
   "id": "127850d0",
   "metadata": {},
   "outputs": [],
   "source": [
    "# Your turn\n",
    "# center_1 = [5, 6, 5, 7, 6, 5, 6, 7, 5, 6]  # minutes\n",
    "# center_2 = [2, 12, 3, 11, 4, 10, 3, 9, 4, 8]  # minutes\n"
   ]
  },
  {
   "cell_type": "markdown",
   "id": "22f25302",
   "metadata": {},
   "source": [
    "<details>\n",
    "<summary><b>Solution</b></summary>\n",
    "\n",
    "```python\n",
    "center_1 = [5, 6, 5, 7, 6, 5, 6, 7, 5, 6]  # minutes\n",
    "center_2 = [2, 12, 3, 11, 4, 10, 3, 9, 4, 8]  # minutes\n",
    "\n",
    "print(\"Service Center Analysis:\")\n",
    "print(f\"Center 1 - Mean: {np.mean(center_1):.1f} min, Std: {np.std(center_1):.2f} min\")\n",
    "print(f\"Center 2 - Mean: {np.mean(center_2):.1f} min, Std: {np.std(center_2):.2f} min\")\n",
    "print(f\"\\nCoefficient of Variation (CV):\")\n",
    "print(f\"Center 1 CV: {np.std(center_1)/np.mean(center_1)*100:.1f}%\")\n",
    "print(f\"Center 2 CV: {np.std(center_2)/np.mean(center_2)*100:.1f}%\")\n",
    "print(\"\\nCenter 1 is more predictable (lower variation)\")\n",
    "```\n",
    "</details>"
   ]
  },
  {
   "cell_type": "markdown",
   "id": "86ac1848",
   "metadata": {},
   "source": [
    "## 3. Normal Distribution & Z-Scores"
   ]
  },
  {
   "cell_type": "code",
   "execution_count": null,
   "id": "ddf3b8ab",
   "metadata": {},
   "outputs": [],
   "source": [
    "# Generate normal distribution data\n",
    "np.random.seed(42)\n",
    "test_scores = np.random.normal(75, 10, 1000)  # mean=75, std=10\n",
    "\n",
    "# Calculate percentiles\n",
    "print(f\"Mean: {test_scores.mean():.1f}\")\n",
    "print(f\"Std: {test_scores.std():.1f}\")\n",
    "print(f\"\\n68% of scores between: {test_scores.mean()-test_scores.std():.1f} and {test_scores.mean()+test_scores.std():.1f}\")"
   ]
  },
  {
   "cell_type": "code",
   "execution_count": null,
   "id": "f82fed82",
   "metadata": {},
   "outputs": [],
   "source": [
    "# Z-score: How many standard deviations from mean?\n",
    "student_score = 92\n",
    "z_score = (student_score - test_scores.mean()) / test_scores.std()\n",
    "\n",
    "print(f\"Student score: {student_score}\")\n",
    "print(f\"Z-score: {z_score:.2f}\")\n",
    "print(f\"This score is {z_score:.2f} standard deviations above the mean\")"
   ]
  },
  {
   "cell_type": "code",
   "execution_count": null,
   "id": "afdbd6b9",
   "metadata": {},
   "outputs": [],
   "source": [
    "# Visualize with the 68-95-99.7 rule\n",
    "plt.figure(figsize=(10, 5))\n",
    "plt.hist(test_scores, bins=30, density=True, alpha=0.7, color='skyblue', edgecolor='black')\n",
    "\n",
    "# Add normal curve\n",
    "from scipy import stats\n",
    "x = np.linspace(test_scores.min(), test_scores.max(), 100)\n",
    "plt.plot(x, stats.norm.pdf(x, test_scores.mean(), test_scores.std()), 'r-', linewidth=2)\n",
    "\n",
    "# Mark standard deviations\n",
    "mean = test_scores.mean()\n",
    "std = test_scores.std()\n",
    "plt.axvline(mean, color='red', linestyle='--', label='Mean')\n",
    "plt.axvline(mean-std, color='green', linestyle='--', label='±1 SD (68%)')\n",
    "plt.axvline(mean+std, color='green', linestyle='--')\n",
    "\n",
    "plt.xlabel('Test Score')\n",
    "plt.ylabel('Density')\n",
    "plt.title('Normal Distribution of Test Scores')\n",
    "plt.legend()\n",
    "plt.show()"
   ]
  },
  {
   "cell_type": "markdown",
   "id": "f8c85c5e",
   "metadata": {},
   "source": [
    "## 4. Confidence Intervals\n",
    "How confident are we in our estimates?"
   ]
  },
  {
   "cell_type": "code",
   "execution_count": null,
   "id": "948a3661-2494",
   "metadata": {},
   "outputs": [],
   "source": [
    "# Sample of customer satisfaction scores (1-10)\n",
    "np.random.seed(42)\n",
    "sample_size = 30\n",
    "satisfaction = np.random.normal(7.5, 1.2, sample_size)\n",
    "\n",
    "# Calculate 95% confidence interval\n",
    "sample_mean = satisfaction.mean()\n",
    "sample_std = satisfaction.std(ddof=1)  # ddof=1 for sample std\n",
    "standard_error = sample_std / np.sqrt(sample_size)\n",
    "\n",
    "# For 95% CI, use 1.96 (approximation for large samples)\n",
    "margin_of_error = 1.96 * standard_error\n",
    "ci_lower = sample_mean - margin_of_error\n",
    "ci_upper = sample_mean + margin_of_error\n",
    "\n",
    "print(f\"Sample mean: {sample_mean:.2f}\")\n",
    "print(f\"95% Confidence Interval: [{ci_lower:.2f}, {ci_upper:.2f}]\")\n",
    "print(f\"\\nInterpretation: We're 95% confident the true population mean\")\n",
    "print(f\"satisfaction score is between {ci_lower:.2f} and {ci_upper:.2f}\")"
   ]
  },
  {
   "cell_type": "markdown",
   "id": "17f39466",
   "metadata": {},
   "source": [
    "**Exercise 3 – Conversion Rate CI (medium)**  \n",
    "Calculate confidence interval for website conversion rate.\n"
   ]
  },
  {
   "cell_type": "code",
   "execution_count": null,
   "id": "64f3255a",
   "metadata": {},
   "outputs": [],
   "source": [
    "# Your turn\n",
    "# visitors = 1000\n",
    "# conversions = 47\n",
    "# Calculate 95% CI for conversion rate\n"
   ]
  },
  {
   "cell_type": "markdown",
   "id": "a54870cb",
   "metadata": {},
   "source": [
    "<details>\n",
    "<summary><b>Solution</b></summary>\n",
    "\n",
    "```python\n",
    "visitors = 1000\n",
    "conversions = 47\n",
    "conversion_rate = conversions / visitors\n",
    "\n",
    "# For proportions, use different formula\n",
    "import math\n",
    "se = math.sqrt((conversion_rate * (1 - conversion_rate)) / visitors)\n",
    "margin = 1.96 * se\n",
    "\n",
    "ci_lower = conversion_rate - margin\n",
    "ci_upper = conversion_rate + margin\n",
    "\n",
    "print(f\"Conversion rate: {conversion_rate:.1%}\")\n",
    "print(f\"95% CI: [{ci_lower:.1%}, {ci_upper:.1%}]\")\n",
    "print(f\"\\nWe can be 95% confident the true conversion rate\")\n",
    "print(f\"is between {ci_lower:.1%} and {ci_upper:.1%}\")\n",
    "```\n",
    "</details>"
   ]
  },
  {
   "cell_type": "markdown",
   "id": "b93813ac",
   "metadata": {},
   "source": [
    "## 5. Correlation vs Causation"
   ]
  },
  {
   "cell_type": "code",
   "execution_count": null,
   "id": "4b637638",
   "metadata": {},
   "outputs": [],
   "source": [
    "# Create correlated data\n",
    "np.random.seed(42)\n",
    "hours_studied = np.random.uniform(1, 10, 50)\n",
    "exam_scores = 60 + 3 * hours_studied + np.random.normal(0, 5, 50)\n",
    "\n",
    "# Calculate correlation\n",
    "correlation = np.corrcoef(hours_studied, exam_scores)[0, 1]\n",
    "print(f\"Correlation coefficient: {correlation:.3f}\")"
   ]
  },
  {
   "cell_type": "code",
   "execution_count": null,
   "id": "9f70e311",
   "metadata": {},
   "outputs": [],
   "source": [
    "# Visualize relationship\n",
    "plt.figure(figsize=(8, 5))\n",
    "plt.scatter(hours_studied, exam_scores, alpha=0.6)\n",
    "plt.xlabel('Hours Studied')\n",
    "plt.ylabel('Exam Score')\n",
    "plt.title(f'Study Hours vs Exam Scores (r = {correlation:.3f})')\n",
    "\n",
    "# Add trend line\n",
    "z = np.polyfit(hours_studied, exam_scores, 1)\n",
    "p = np.poly1d(z)\n",
    "plt.plot(hours_studied, p(hours_studied), \"r--\", alpha=0.8)\n",
    "plt.show()"
   ]
  },
  {
   "cell_type": "code",
   "execution_count": null,
   "id": "de98963a",
   "metadata": {},
   "outputs": [],
   "source": [
    "# Spurious correlation example\n",
    "years = np.arange(2010, 2020)\n",
    "ice_cream_sales = [100, 105, 112, 118, 125, 132, 140, 148, 156, 165]\n",
    "shark_attacks = [70, 72, 78, 82, 87, 91, 96, 102, 108, 114]\n",
    "\n",
    "correlation_spurious = np.corrcoef(ice_cream_sales, shark_attacks)[0, 1]\n",
    "print(f\"Ice cream sales vs Shark attacks correlation: {correlation_spurious:.3f}\")\n",
    "print(\"\\n⚠️ High correlation doesn't mean causation!\")\n",
    "print(\"Both are likely caused by warmer weather/more beach visits.\")"
   ]
  },
  {
   "cell_type": "markdown",
   "id": "de98963a1",
   "metadata": {},
   "source": [
    "**Exercise 4 – Correlation Analysis (hard)**  \n",
    "Analyze relationship between marketing spend and sales. Is it causal?\n"
   ]
  },
  {
   "cell_type": "code",
   "execution_count": null,
   "id": "9b7b1b10",
   "metadata": {},
   "outputs": [],
   "source": [
    "# Your turn\n",
    "# marketing = [5000, 7000, 9000, 11000, 13000, 15000, 17000, 19000]\n",
    "# sales = [50000, 65000, 72000, 88000, 95000, 103000, 115000, 125000]\n"
   ]
  },
  {
   "cell_type": "markdown",
   "id": "4cecfa82",
   "metadata": {},
   "source": [
    "<details>\n",
    "<summary><b>Solution</b></summary>\n",
    "\n",
    "```python\n",
    "marketing = np.array([5000, 7000, 9000, 11000, 13000, 15000, 17000, 19000])\n",
    "sales = np.array([50000, 65000, 72000, 88000, 95000, 103000, 115000, 125000])\n",
    "\n",
    "# Calculate correlation\n",
    "corr = np.corrcoef(marketing, sales)[0, 1]\n",
    "print(f\"Correlation: {corr:.3f}\")\n",
    "\n",
    "# Calculate ROI\n",
    "roi = (sales - marketing) / marketing\n",
    "print(f\"\\nAverage ROI: {roi.mean():.1f}x\")\n",
    "\n",
    "# Plot\n",
    "plt.figure(figsize=(8, 5))\n",
    "plt.scatter(marketing/1000, sales/1000)\n",
    "plt.xlabel('Marketing Spend ($1000s)')\n",
    "plt.ylabel('Sales ($1000s)')\n",
    "plt.title(f'Marketing vs Sales (r={corr:.3f})')\n",
    "\n",
    "# Fit line\n",
    "z = np.polyfit(marketing, sales, 1)\n",
    "p = np.poly1d(z)\n",
    "plt.plot(marketing/1000, p(marketing)/1000, \"r--\")\n",
    "plt.show()\n",
    "\n",
    "print(\"\\n📊 Strong positive correlation suggests relationship\")\n",
    "print(\"But need controlled experiment (A/B test) to prove causation!\")\n",
    "```\n",
    "</details>"
   ]
  },
  {
   "cell_type": "markdown",
   "id": "8f88bba8",
   "metadata": {},
   "source": [
    "## 6. Mini-Challenges\n",
    "- **M1 (easy):** Calculate mean, median, mode for daily website visitors over 2 weeks\n",
    "- **M2 (medium):** Find outliers using IQR method in customer purchase amounts\n",
    "- **M3 (hard):** Bootstrap confidence intervals for median (not mean)"
   ]
  },
  {
   "cell_type": "code",
   "execution_count": null,
   "id": "0f834bfd",
   "metadata": {},
   "outputs": [],
   "source": [
    "# Your turn - try the challenges!\n"
   ]
  },
  {
   "cell_type": "markdown",
   "id": "b1a2e9d0",
   "metadata": {},
   "source": [
    "<details>\n",
    "<summary><b>Solutions</b></summary>\n",
    "\n",
    "```python\n",
    "# M1 - Website visitors\n",
    "visitors = [1250, 1180, 1320, 1250, 1400, 1550, 1600, \n",
    "            1200, 1250, 1350, 1250, 1480, 1520, 1580]\n",
    "print(f\"Mean: {np.mean(visitors):.0f} visitors/day\")\n",
    "print(f\"Median: {np.median(visitors):.0f} visitors/day\")\n",
    "from scipy import stats\n",
    "print(f\"Mode: {stats.mode(visitors).mode} visitors/day\")\n",
    "\n",
    "# M2 - Outlier detection with IQR\n",
    "purchases = [45, 52, 48, 67, 72, 58, 210, 65, 71, 53, 49, 68]\n",
    "Q1 = np.percentile(purchases, 25)\n",
    "Q3 = np.percentile(purchases, 75)\n",
    "IQR = Q3 - Q1\n",
    "lower_bound = Q1 - 1.5 * IQR\n",
    "upper_bound = Q3 + 1.5 * IQR\n",
    "outliers = [x for x in purchases if x < lower_bound or x > upper_bound]\n",
    "print(f\"Outliers: {outliers}\")\n",
    "\n",
    "# M3 - Bootstrap CI for median\n",
    "data = np.random.normal(100, 15, 50)\n",
    "n_bootstrap = 1000\n",
    "bootstrap_medians = []\n",
    "for _ in range(n_bootstrap):\n",
    "    sample = np.random.choice(data, size=len(data), replace=True)\n",
    "    bootstrap_medians.append(np.median(sample))\n",
    "\n",
    "ci_lower = np.percentile(bootstrap_medians, 2.5)\n",
    "ci_upper = np.percentile(bootstrap_medians, 97.5)\n",
    "print(f\"Bootstrap 95% CI for median: [{ci_lower:.2f}, {ci_upper:.2f}]\")\n",
    "```\n",
    "</details>"
   ]
  },
  {
   "cell_type": "markdown",
   "id": "aba28e65",
   "metadata": {},
   "source": [
    "## Wrap-Up & Next Steps\n",
    "✅ You understand central tendency and when to use mean vs median  \n",
    "✅ You can measure and interpret data spread  \n",
    "✅ You know how to calculate confidence intervals  \n",
    "✅ You understand correlation ≠ causation  \n",
    "\n",
    "**Next:** Hypothesis Testing - Making data-driven decisions with statistical significance!\n"
   ]
  }
 ],
 "metadata": {
  "kernelspec": {
   "display_name": "Python 3 (ipykernel)",
   "language": "python",
   "name": "python3"
  },
  "language_info": {
   "codemirror_mode": {
    "name": "ipython",
    "version": 3
   },
   "file_extension": ".py",
   "mimetype": "text/x-python",
   "name": "python",
   "nbconvert_exporter": "python",
   "pygments_lexer": "ipython3",
   "version": "3.13.1"
  }
 },
 "nbformat": 4,
 "nbformat_minor": 5
}