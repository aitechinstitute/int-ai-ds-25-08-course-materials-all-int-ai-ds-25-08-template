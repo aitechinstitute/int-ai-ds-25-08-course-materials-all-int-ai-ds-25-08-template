{
 "cells": [
  {
   "cell_type": "markdown",
   "metadata": {},
   "source": [
    "# **AI TECH INSTITUTE** · *Intermediate AI & Data Science*\n",
    "### Week 04 · Notebook 04 — Probability Distributions\n",
    "**Instructor:** Amir Charkhi  |  **Goal:** Master probability distributions to predict and model real-world phenomena.\n",
    "\n",
    "> Format: short theory → quick practice → build understanding → mini-challenges.\n"
   ]
  },
  {
   "cell_type": "markdown",
   "metadata": {},
   "source": [
    "---\n",
    "## Learning Objectives\n",
    "- Understand what probability distributions are and why they matter\n",
    "- Master the normal distribution and its magical properties\n",
    "- Work with other key distributions (binomial, uniform)\n",
    "- Apply distributions to solve real business problems\n",
    "- Use Python's scipy.stats like a pro"
   ]
  },
  {
   "cell_type": "markdown",
   "metadata": {},
   "source": [
    "## 1. What Are Probability Distributions?\n",
    "**Your crystal ball for data**: Distributions tell you what values are possible and how likely each one is!"
   ]
  },
  {
   "cell_type": "code",
   "execution_count": null,
   "metadata": {},
   "outputs": [],
   "source": [
    "import numpy as np\n",
    "import pandas as pd\n",
    "import matplotlib.pyplot as plt\n",
    "import seaborn as sns\n",
    "from scipy import stats\n",
    "\n",
    "# Set style for nice plots\n",
    "sns.set_style('whitegrid')\n",
    "plt.rcParams['figure.figsize'] = (8, 4)\n",
    "%matplotlib inline"
   ]
  },
  {
   "cell_type": "code",
   "execution_count": null,
   "metadata": {},
   "outputs": [],
   "source": [
    "# Real-world examples of distributions\n",
    "examples = {\n",
    "    \"📏 Heights\": \"Normal - most people average height, few very tall/short\",\n",
    "    \"🎯 Test Scores\": \"Normal - most students score around average\", \n",
    "    \"💰 Income\": \"Right-skewed - few people earn very high incomes\",\n",
    "    \"🎲 Dice Rolls\": \"Uniform - all outcomes equally likely\",\n",
    "    \"📞 Call Center Calls\": \"Poisson - random events over time\",\n",
    "    \"🪙 Coin Flips\": \"Binomial - counting successes in trials\"\n",
    "}\n",
    "\n",
    "print(\"🌍 Distributions in the Real World:\")\n",
    "for phenomenon, description in examples.items():\n",
    "    print(f\"   {phenomenon}: {description}\")\n",
    "    \n",
    "print(\"\\n💡 Key insight: Once you know the distribution, you can make predictions!\")"
   ]
  },
  {
   "cell_type": "markdown",
   "metadata": {},
   "source": [
    "## 2. The Normal Distribution: The Star of Statistics"
   ]
  },
  {
   "cell_type": "markdown",
   "metadata": {},
   "source": [
    "### 2.1 Why Normal Distributions Rule the World"
   ]
  },
  {
   "cell_type": "code",
   "execution_count": null,
   "metadata": {},
   "outputs": [],
   "source": [
    "# Generate and explore normal distribution\n",
    "mu = 100    # mean (center)\n",
    "sigma = 15  # standard deviation (spread)\n",
    "size = 1000\n",
    "\n",
    "# Generate IQ scores (classic normal distribution example)\n",
    "iq_scores = np.random.normal(mu, sigma, size)\n",
    "\n",
    "print(f\"🧠 IQ Score Distribution (n={size:,})\")\n",
    "print(f\"   Target: mean={mu}, std={sigma}\")\n",
    "print(f\"   Actual: mean={np.mean(iq_scores):.1f}, std={np.std(iq_scores, ddof=1):.1f}\")\n",
    "print(f\"\\n📊 Sample statistics match the theory!\")"
   ]
  },
  {
   "cell_type": "markdown",
   "metadata": {},
   "source": [
    "### 2.2 The Famous 68-95-99.7 Rule"
   ]
  },
  {
   "cell_type": "code",
   "execution_count": null,
   "metadata": {},
   "outputs": [],
   "source": [
    "# Verify the 68-95-99.7 rule\n",
    "within_1_std = np.sum((iq_scores >= mu - sigma) & (iq_scores <= mu + sigma)) / len(iq_scores)\n",
    "within_2_std = np.sum((iq_scores >= mu - 2*sigma) & (iq_scores <= mu + 2*sigma)) / len(iq_scores)\n",
    "within_3_std = np.sum((iq_scores >= mu - 3*sigma) & (iq_scores <= mu + 3*sigma)) / len(iq_scores)\n",
    "\n",
    "print(\"🎯 The Magic 68-95-99.7 Rule:\")\n",
    "print(f\"   Within 1 std: {within_1_std:.1%} (theory: 68.0%)\")\n",
    "print(f\"   Within 2 std: {within_2_std:.1%} (theory: 95.0%)\")\n",
    "print(f\"   Within 3 std: {within_3_std:.1%} (theory: 99.7%)\")\n",
    "print(f\"\\n💡 This rule works for ANY normal distribution!\")"
   ]
  },
  {
   "cell_type": "code",
   "execution_count": null,
   "metadata": {},
   "outputs": [],
   "source": [
    "# Visualize the rule\n",
    "plt.figure(figsize=(12, 6))\n",
    "x = np.linspace(mu - 4*sigma, mu + 4*sigma, 1000)\n",
    "y = stats.norm.pdf(x, mu, sigma)\n",
    "\n",
    "plt.plot(x, y, 'b-', linewidth=2, label='Normal Distribution')\n",
    "\n",
    "# Fill areas for the rule\n",
    "x1 = x[(x >= mu - sigma) & (x <= mu + sigma)]\n",
    "y1 = stats.norm.pdf(x1, mu, sigma)\n",
    "plt.fill_between(x1, y1, alpha=0.3, color='green', label='68% (±1σ)')\n",
    "\n",
    "x2 = x[(x >= mu - 2*sigma) & (x <= mu + 2*sigma)]\n",
    "y2 = stats.norm.pdf(x2, mu, sigma)\n",
    "plt.fill_between(x2, y2, alpha=0.2, color='orange', label='95% (±2σ)')\n",
    "\n",
    "plt.axvline(mu, color='red', linestyle='--', linewidth=2, label='Mean')\n",
    "plt.title('🧠 The 68-95-99.7 Rule for IQ Scores')\n",
    "plt.xlabel('IQ Score')\n",
    "plt.ylabel('Probability Density')\n",
    "plt.legend()\n",
    "plt.grid(True, alpha=0.3)\n",
    "plt.show()"
   ]
  },
  {
   "cell_type": "markdown",
   "metadata": {},
   "source": [
    "**Exercise 1 — Applying the Rule (easy)**  \n",
    "Use the 68-95-99.7 rule to make predictions about exam scores.\n"
   ]
  },
  {
   "cell_type": "code",
   "execution_count": null,
   "metadata": {},
   "outputs": [],
   "source": [
    "# Exam scores: mean=75, std=10\n",
    "exam_mean = 75\n",
    "exam_std = 10\n",
    "\n",
    "# Your turn: What percentage of students score between 65 and 85?\n",
    "# What range contains the middle 95% of scores?\n"
   ]
  },
  {
   "cell_type": "markdown",
   "metadata": {},
   "source": [
    "<details>\n",
    "<summary><b>Solution</b></summary>\n",
    "\n",
    "```python\n",
    "print(\"📝 Exam Score Analysis (mean=75, std=10):\")\n",
    "print(f\"\\n68% of students score between: {exam_mean - exam_std} and {exam_mean + exam_std}\")\n",
    "print(f\"95% of students score between: {exam_mean - 2*exam_std} and {exam_mean + 2*exam_std}\")\n",
    "print(f\"99.7% of students score between: {exam_mean - 3*exam_std} and {exam_mean + 3*exam_std}\")\n",
    "print(f\"\\n🎯 Between 65-85: About 68% of students\")\n",
    "print(f\"🎯 Middle 95% range: 55 to 95 points\")\n",
    "print(f\"\\n💡 Scores below 45 or above 105 are extremely rare!\")\n",
    "```\n",
    "</details>"
   ]
  },
  {
   "cell_type": "markdown",
   "metadata": {},
   "source": [
    "## 3. Working with Normal Distributions in Python"
   ]
  },
  {
   "cell_type": "code",
   "execution_count": null,
   "metadata": {},
   "outputs": [],
   "source": [
    "# Create a normal distribution object\n",
    "height_dist = stats.norm(loc=170, scale=10)  # loc=mean, scale=std\n",
    "\n",
    "print(\"📏 Human Height Distribution (cm):\")\n",
    "print(f\"   Mean: {height_dist.mean():.0f} cm\")\n",
    "print(f\"   Std: {height_dist.std():.0f} cm\")\n",
    "\n",
    "# Answer probability questions\n",
    "prob_tall = 1 - height_dist.cdf(180)  # P(height > 180)\n",
    "prob_range = height_dist.cdf(175) - height_dist.cdf(165)  # P(165 < height < 175)\n",
    "\n",
    "print(f\"\\n🤔 Probability Questions:\")\n",
    "print(f\"   P(height > 180cm) = {prob_tall:.2%}\")\n",
    "print(f\"   P(165cm < height < 175cm) = {prob_range:.2%}\")"
   ]
  },
  {
   "cell_type": "code",
   "execution_count": null,
   "metadata": {},
   "outputs": [],
   "source": [
    "# Find percentiles (what height is at the 90th percentile?)\n",
    "percentile_90 = height_dist.ppf(0.90)\n",
    "percentile_10 = height_dist.ppf(0.10)\n",
    "median_height = height_dist.ppf(0.50)\n",
    "\n",
    "print(\"📊 Height Percentiles:\")\n",
    "print(f\"   10th percentile: {percentile_10:.1f} cm\")\n",
    "print(f\"   50th percentile (median): {median_height:.1f} cm\")\n",
    "print(f\"   90th percentile: {percentile_90:.1f} cm\")\n",
    "print(f\"\\n💡 90% of people are between {percentile_10:.0f}cm and {percentile_90:.0f}cm\")"
   ]
  },
  {
   "cell_type": "markdown",
   "metadata": {},
   "source": [
    "## 4. Z-Scores: The Universal Language"
   ]
  },
  {
   "cell_type": "code",
   "execution_count": null,
   "metadata": {},
   "outputs": [],
   "source": [
    "# Standard normal distribution (mean=0, std=1)\n",
    "standard_normal = stats.norm(0, 1)\n",
    "\n",
    "# Convert any normal distribution to standard\n",
    "original_scores = [85, 70, 95, 60]\n",
    "test_mean = 75\n",
    "test_std = 10\n",
    "\n",
    "print(\"🔄 Converting to Z-Scores:\")\n",
    "print(\"Original Score | Z-Score | Interpretation\")\n",
    "print(\"-\" * 45)\n",
    "\n",
    "for score in original_scores:\n",
    "    z_score = (score - test_mean) / test_std\n",
    "    if z_score > 2:\n",
    "        interpretation = \"🌟 Exceptional\"\n",
    "    elif z_score > 1:\n",
    "        interpretation = \"😊 Above Average\"\n",
    "    elif z_score > -1:\n",
    "        interpretation = \"😐 Average\"\n",
    "    elif z_score > -2:\n",
    "        interpretation = \"😕 Below Average\"\n",
    "    else:\n",
    "        interpretation = \"😰 Concerning\"\n",
    "    \n",
    "    print(f\"     {score:2d}        |  {z_score:+4.1f}   | {interpretation}\")"
   ]
  },
  {
   "cell_type": "markdown",
   "metadata": {},
   "source": [
    "## 5. Other Important Distributions"
   ]
  },
  {
   "cell_type": "markdown",
   "metadata": {},
   "source": [
    "### 5.1 Uniform Distribution: Everyone's Equal"
   ]
  },
  {
   "cell_type": "code",
   "execution_count": null,
   "metadata": {},
   "outputs": [],
   "source": [
    "# Random wait times between 0-10 minutes\n",
    "min_wait, max_wait = 0, 10\n",
    "uniform_waits = np.random.uniform(min_wait, max_wait, 1000)\n",
    "\n",
    "plt.figure(figsize=(10, 5))\n",
    "plt.hist(uniform_waits, bins=20, density=True, alpha=0.7, color='lightgreen', \n",
    "         edgecolor='black')\n",
    "plt.title('⏰ Uniform Wait Times: All Durations Equally Likely')\n",
    "plt.xlabel('Wait Time (minutes)')\n",
    "plt.ylabel('Probability Density')\n",
    "plt.grid(True, alpha=0.3)\n",
    "plt.show()\n",
    "\n",
    "print(f\"⏰ Uniform Distribution Properties:\")\n",
    "print(f\"   Mean: {np.mean(uniform_waits):.1f} min (expected: {(min_wait + max_wait)/2})\")\n",
    "print(f\"   All values between {min_wait} and {max_wait} equally likely\")\n",
    "print(f\"   Perfect for modeling random delays, lottery numbers, etc.\")"
   ]
  },
  {
   "cell_type": "markdown",
   "metadata": {},
   "source": [
    "### 5.2 Binomial Distribution: Counting Successes"
   ]
  },
  {
   "cell_type": "code",
   "execution_count": null,
   "metadata": {},
   "outputs": [],
   "source": [
    "# Email marketing: 20 emails sent, 30% open rate\n",
    "n_emails = 20\n",
    "open_rate = 0.30\n",
    "n_campaigns = 1000\n",
    "\n",
    "email_opens = np.random.binomial(n_emails, open_rate, n_campaigns)\n",
    "\n",
    "plt.figure(figsize=(10, 5))\n",
    "plt.hist(email_opens, bins=range(0, n_emails+2), density=True, alpha=0.7, \n",
    "         color='lightcoral', edgecolor='black')\n",
    "plt.title(f'📧 Email Opens: {n_emails} emails at {open_rate:.0%} open rate')\n",
    "plt.xlabel('Number of Opens')\n",
    "plt.ylabel('Probability')\n",
    "plt.grid(True, alpha=0.3)\n",
    "plt.show()\n",
    "\n",
    "expected_opens = n_emails * open_rate\n",
    "expected_std = np.sqrt(n_emails * open_rate * (1 - open_rate))\n",
    "\n",
    "print(f\"📧 Email Campaign Analysis:\")\n",
    "print(f\"   Expected opens: {expected_opens:.1f}\")\n",
    "print(f\"   Actual average: {np.mean(email_opens):.1f}\")\n",
    "print(f\"   Standard deviation: {np.std(email_opens, ddof=1):.1f} (expected: {expected_std:.1f})\")\n",
    "print(f\"   Most campaigns get {expected_opens-expected_std:.0f}-{expected_opens+expected_std:.0f} opens\")"
   ]
  },
  {
   "cell_type": "markdown",
   "metadata": {},
   "source": [
    "**Exercise 2 — Business Application (medium)**  \n",
    "A website has a 2% conversion rate. In 100 visitors, what's the probability of getting exactly 3 conversions?\n"
   ]
  },
  {
   "cell_type": "code",
   "execution_count": null,
   "metadata": {},
   "outputs": [],
   "source": [
    "# Your turn - use binomial distribution\n",
    "n_visitors = 100\n",
    "conversion_rate = 0.02\n",
    "\n",
    "# Calculate probability of exactly 3 conversions\n"
   ]
  },
  {
   "cell_type": "markdown",
   "metadata": {},
   "source": [
    "<details>\n",
    "<summary><b>Solution</b></summary>\n",
    "\n",
    "```python\n",
    "# Create binomial distribution\n",
    "conversion_dist = stats.binom(n=n_visitors, p=conversion_rate)\n",
    "\n",
    "# Probability of exactly 3 conversions\n",
    "prob_exactly_3 = conversion_dist.pmf(3)\n",
    "print(f\"🎯 Conversion Analysis:\")\n",
    "print(f\"   Visitors: {n_visitors}\")\n",
    "print(f\"   Conversion rate: {conversion_rate:.1%}\")\n",
    "print(f\"   P(exactly 3 conversions) = {prob_exactly_3:.3f} ({prob_exactly_3:.1%})\")\n",
    "\n",
    "# Expected conversions\n",
    "expected = n_visitors * conversion_rate\n",
    "print(f\"   Expected conversions: {expected:.1f}\")\n",
    "\n",
    "# Probability of 0, 1, 2, or 3+ conversions\n",
    "prob_0 = conversion_dist.pmf(0)\n",
    "prob_1 = conversion_dist.pmf(1)\n",
    "prob_2 = conversion_dist.pmf(2)\n",
    "prob_3_plus = 1 - conversion_dist.cdf(2)\n",
    "\n",
    "print(f\"\\n📊 Conversion Probabilities:\")\n",
    "print(f\"   0 conversions: {prob_0:.1%}\")\n",
    "print(f\"   1 conversion:  {prob_1:.1%}\")\n",
    "print(f\"   2 conversions: {prob_2:.1%}\")\n",
    "print(f\"   3+ conversions: {prob_3_plus:.1%}\")\n",
    "```\n",
    "</details>"
   ]
  },
  {
   "cell_type": "markdown",
   "metadata": {},
   "source": [
    "## 6. Real-World Business Applications"
   ]
  },
  {
   "cell_type": "markdown",
   "metadata": {},
   "source": [
    "### 6.1 Quality Control"
   ]
  },
  {
   "cell_type": "code",
   "execution_count": null,
   "metadata": {},
   "outputs": [],
   "source": [
    "# Manufacturing: smartphone battery life\n",
    "target_hours = 24\n",
    "tolerance = 2  # ±2 hours\n",
    "battery_dist = stats.norm(loc=target_hours, scale=tolerance)\n",
    "\n",
    "# Quality control analysis\n",
    "prob_defective = battery_dist.cdf(20) + (1 - battery_dist.cdf(28))\n",
    "prob_acceptable = 1 - prob_defective\n",
    "\n",
    "print(\"🔋 Battery Quality Control:\")\n",
    "print(f\"   Target: {target_hours} hours ± {tolerance} hours\")\n",
    "print(f\"   Acceptable range: 20-28 hours\")\n",
    "print(f\"   Defect rate: {prob_defective:.1%}\")\n",
    "print(f\"   Quality rate: {prob_acceptable:.1%}\")\n",
    "\n",
    "# Daily production impact\n",
    "daily_production = 10000\n",
    "expected_defects = daily_production * prob_defective\n",
    "print(f\"\\n📊 Daily Impact ({daily_production:,} batteries):\")\n",
    "print(f\"   Expected defects: {expected_defects:.0f} batteries\")\n",
    "print(f\"   Daily cost at $50/defect: ${expected_defects * 50:,.0f}\")"
   ]
  },
  {
   "cell_type": "markdown",
   "metadata": {},
   "source": [
    "### 6.2 Customer Service Planning"
   ]
  },
  {
   "cell_type": "code",
   "execution_count": null,
   "metadata": {},
   "outputs": [],
   "source": [
    "# Call center: response times\n",
    "avg_response = 180  # 3 minutes in seconds\n",
    "std_response = 45   # 45 seconds\n",
    "service_dist = stats.norm(loc=avg_response, scale=std_response)\n",
    "\n",
    "# Service level analysis\n",
    "prob_fast = service_dist.cdf(120)     # Under 2 minutes\n",
    "prob_target = service_dist.cdf(240)   # Under 4 minutes\n",
    "prob_slow = 1 - service_dist.cdf(300) # Over 5 minutes\n",
    "\n",
    "print(\"📞 Call Center Performance:\")\n",
    "print(f\"   Average response: {avg_response/60:.1f} minutes\")\n",
    "print(f\"   Standard deviation: {std_response} seconds\")\n",
    "print(f\"\\n🎯 Service Levels:\")\n",
    "print(f\"   Fast service (<2 min): {prob_fast:.1%}\")\n",
    "print(f\"   Target met (<4 min): {prob_target:.1%}\")\n",
    "print(f\"   Poor service (>5 min): {prob_slow:.1%}\")\n",
    "\n",
    "# Find percentiles for planning\n",
    "percentile_90 = service_dist.ppf(0.90)\n",
    "print(f\"\\n📊 Planning Insight:\")\n",
    "print(f\"   90% of calls answered within: {percentile_90/60:.1f} minutes\")"
   ]
  },
  {
   "cell_type": "markdown",
   "metadata": {},
   "source": [
    "**Exercise 3 — Revenue Forecasting (hard)**  \n",
    "Monthly sales follow a normal distribution. Build a revenue prediction model.\n"
   ]
  },
  {
   "cell_type": "code",
   "execution_count": null,
   "metadata": {},
   "outputs": [],
   "source": [
    "# Historical data: monthly sales normally distributed\n",
    "avg_monthly_sales = 50000  # units\n",
    "std_monthly_sales = 8000   # units\n",
    "price_per_unit = 25        # dollars\n",
    "\n",
    "# Your tasks:\n",
    "# 1. What's the probability of selling more than 60,000 units?\n",
    "# 2. What sales volume gives 90% confidence for revenue planning?\n",
    "# 3. What's the risk of revenue falling below $1M?\n"
   ]
  },
  {
   "cell_type": "markdown",
   "metadata": {},
   "source": [
    "<details>\n",
    "<summary><b>Solution</b></summary>\n",
    "\n",
    "```python\n",
    "# Create sales distribution\n",
    "sales_dist = stats.norm(loc=avg_monthly_sales, scale=std_monthly_sales)\n",
    "\n",
    "# Task 1: Probability of >60K units\n",
    "prob_high_sales = 1 - sales_dist.cdf(60000)\n",
    "print(f\"📈 Revenue Forecasting Analysis:\")\n",
    "print(f\"   Average monthly sales: {avg_monthly_sales:,} units\")\n",
    "print(f\"   Standard deviation: {std_monthly_sales:,} units\")\n",
    "print(f\"   Price per unit: ${price_per_unit}\")\n",
    "print(f\"\\n1️⃣ P(sales > 60,000) = {prob_high_sales:.1%}\")\n",
    "\n",
    "# Task 2: 90% confidence level (10th percentile)\n",
    "conservative_sales = sales_dist.ppf(0.10)\n",
    "conservative_revenue = conservative_sales * price_per_unit\n",
    "print(f\"\\n2️⃣ Conservative planning (90% confidence):\")\n",
    "print(f\"   Sales volume: {conservative_sales:,.0f} units\")\n",
    "print(f\"   Revenue: ${conservative_revenue:,.0f}\")\n",
    "\n",
    "# Task 3: Risk of <$1M revenue\n",
    "min_units_for_1m = 1000000 / price_per_unit\n",
    "prob_below_1m = sales_dist.cdf(min_units_for_1m)\n",
    "print(f\"\\n3️⃣ Revenue Risk Analysis:\")\n",
    "print(f\"   Units needed for $1M: {min_units_for_1m:,.0f}\")\n",
    "print(f\"   Risk of <$1M revenue: {prob_below_1m:.1%}\")\n",
    "\n",
    "# Bonus: Expected revenue\n",
    "expected_revenue = avg_monthly_sales * price_per_unit\n",
    "print(f\"\\n💰 Expected monthly revenue: ${expected_revenue:,.0f}\")\n",
    "```\n",
    "</details>"
   ]
  },
  {
   "cell_type": "markdown",
   "metadata": {},
   "source": [
    "## 7. Distribution Comparison Dashboard"
   ]
  },
  {
   "cell_type": "code",
   "execution_count": null,
   "metadata": {},
   "outputs": [],
   "source": [
    "# Compare different normal distributions\n",
    "fig, axes = plt.subplots(2, 2, figsize=(12, 10))\n",
    "x = np.linspace(-10, 20, 1000)\n",
    "\n",
    "# Different means, same std\n",
    "axes[0,0].plot(x, stats.norm.pdf(x, 0, 2), label='μ=0, σ=2', linewidth=2)\n",
    "axes[0,0].plot(x, stats.norm.pdf(x, 5, 2), label='μ=5, σ=2', linewidth=2)\n",
    "axes[0,0].plot(x, stats.norm.pdf(x, 10, 2), label='μ=10, σ=2', linewidth=2)\n",
    "axes[0,0].set_title('📊 Different Means (same spread)')\n",
    "axes[0,0].legend()\n",
    "axes[0,0].grid(True, alpha=0.3)\n",
    "\n",
    "# Same mean, different stds\n",
    "axes[0,1].plot(x, stats.norm.pdf(x, 5, 1), label='μ=5, σ=1', linewidth=2)\n",
    "axes[0,1].plot(x, stats.norm.pdf(x, 5, 2), label='μ=5, σ=2', linewidth=2)\n",
    "axes[0,1].plot(x, stats.norm.pdf(x, 5, 4), label='μ=5, σ=4', linewidth=2)\n",
    "axes[0,1].set_title('📊 Different Spreads (same center)')\n",
    "axes[0,1].legend()\n",
    "axes[0,1].grid(True, alpha=0.3)\n",
    "\n",
    "# Uniform vs Normal\n",
    "uniform_x = np.linspace(0, 10, 100)\n",
    "uniform_y = np.ones_like(uniform_x) * 0.1  # Uniform density\n",
    "normal_x = np.linspace(0, 10, 100)\n",
    "normal_y = stats.norm.pdf(normal_x, 5, 1.5)\n",
    "\n",
    "axes[1,0].plot(uniform_x, uniform_y, 'b-', linewidth=3, label='Uniform')\n",
    "axes[1,0].plot(normal_x, normal_y, 'r-', linewidth=2, label='Normal')\n",
    "axes[1,0].set_title('⚖️ Uniform vs Normal')\n",
    "axes[1,0].legend()\n",
    "axes[1,0].grid(True, alpha=0.3)\n",
    "\n",
    "# Binomial approaching normal\n",
    "binom_x = np.arange(0, 21)\n",
    "binom_y = stats.binom.pmf(binom_x, 20, 0.5)\n",
    "normal_approx = stats.norm.pdf(binom_x, 10, np.sqrt(5))\n",
    "\n",
    "axes[1,1].bar(binom_x, binom_y, alpha=0.7, label='Binomial(20, 0.5)')\n",
    "axes[1,1].plot(binom_x, normal_approx, 'r-', linewidth=2, label='Normal Approx')\n",
    "axes[1,1].set_title('🎯 Binomial → Normal')\n",
    "axes[1,1].legend()\n",
    "axes[1,1].grid(True, alpha=0.3)\n",
    "\n",
    "plt.tight_layout()\n",
    "plt.show()"
   ]
  },
  {
   "cell_type": "markdown",
   "metadata": {},
   "source": [
    "## 8. Mini-Challenges\n",
    "- **M1 (easy):** Model customer wait times and calculate service level probabilities\n",
    "- **M2 (medium):** Design a quality control system using normal distributions\n",
    "- **M3 (hard):** Build a complete risk assessment model for business planning"
   ]
  },
  {
   "cell_type": "code",
   "execution_count": null,
   "metadata": {},
   "outputs": [],
   "source": [
    "# Your turn - try the challenges!\n",
    "# M1 Data: Restaurant wait times (mean=12 min, std=3 min)\n",
    "# M2 Data: Product weights (target=500g, tolerance=±5g)\n",
    "# M3 Data: Project completion times, cost overruns, success rates\n"
   ]
  },
  {
   "cell_type": "markdown",
   "metadata": {},
   "source": [
    "<details>\n",
    "<summary><b>Solutions</b></summary>\n",
    "\n",
    "```python\n",
    "# M1 - Restaurant Service Analysis\n",
    "wait_dist = stats.norm(loc=12, scale=3)\n",
    "print(\"🍽️ M1 - Restaurant Wait Time Analysis:\")\n",
    "print(f\"Service levels:\")\n",
    "print(f\"• <10 min: {wait_dist.cdf(10):.1%}\")\n",
    "print(f\"• <15 min: {wait_dist.cdf(15):.1%}\")\n",
    "print(f\"• >20 min: {1-wait_dist.cdf(20):.1%}\")\n",
    "\n",
    "# M2 - Quality Control System\n",
    "weight_dist = stats.norm(loc=500, scale=5)\n",
    "lower_limit, upper_limit = 490, 510\n",
    "defect_rate = weight_dist.cdf(lower_limit) + (1 - weight_dist.cdf(upper_limit))\n",
    "print(f\"\\n⚖️ M2 - Product Weight Quality Control:\")\n",
    "print(f\"Specification: {lower_limit}g - {upper_limit}g\")\n",
    "print(f\"Defect rate: {defect_rate:.2%}\")\n",
    "print(f\"Daily defects (10K units): {defect_rate * 10000:.0f}\")\n",
    "\n",
    "# M3 - Project Risk Assessment\n",
    "duration_dist = stats.norm(loc=90, scale=15)  # days\n",
    "cost_dist = stats.norm(loc=100000, scale=20000)  # dollars\n",
    "print(f\"\\n📊 M3 - Project Risk Assessment:\")\n",
    "print(f\"Timeline risk (>120 days): {1-duration_dist.cdf(120):.1%}\")\n",
    "print(f\"Budget risk (>$150K): {1-cost_dist.cdf(150000):.1%}\")\n",
    "conservative_duration = duration_dist.ppf(0.90)\n",
    "conservative_cost = cost_dist.ppf(0.90)\n",
    "print(f\"Conservative planning (90% confidence):\")\n",
    "print(f\"• Duration: {conservative_duration:.0f} days\")\n",
    "print(f\"• Budget: ${conservative_cost:,.0f}\")\n",
    "```\n",
    "</details>"
   ]
  },
  {
   "cell_type": "markdown",
   "metadata": {},
   "source": [
    "## Wrap-Up & Next Steps\n",
    "✅ You understand what probability distributions are and why they matter  \n",
    "✅ You've mastered the normal distribution and the 68-95-99.7 rule  \n",
    "✅ You can work with scipy.stats to solve real problems  \n",
    "✅ You know when to use different distributions  \n",
    "✅ You can apply distributions to business scenarios  \n",
    "\n",
    "**Quick Reference Card:**\n",
    "- 🔔 **Normal**: Bell curve, 68-95-99.7 rule, most common\n",
    "- ⚖️ **Uniform**: All values equally likely, flat distribution\n",
    "- 🎯 **Binomial**: Counting successes, yes/no outcomes\n",
    "- 📊 **Use .cdf()**: \"Probability less than X\"\n",
    "- 📊 **Use .ppf()**: \"What value is at percentile P?\"\n",
    "\n",
    "**Next:** Correlation and Relationships - Discover how variables connect and influence each other!\n"
   ]
  }
 ],
 "metadata": {
  "kernelspec": {
   "display_name": "Python 3 (ipykernel)",
   "language": "python",
   "name": "python3"
  },
  "language_info": {
   "codemirror_mode": {
    "name": "ipython",
    "version": 3
   },
   "file_extension": ".py",
   "mimetype": "text/x-python",
   "name": "python",
   "nbconvert_exporter": "python",
   "pygments_lexer": "ipython3",
   "version": "3.13.1"
  }
 },
 "nbformat": 4,
 "nbformat_minor": 4
}
