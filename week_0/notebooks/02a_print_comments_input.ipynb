{
 "cells": [
  {
   "cell_type": "markdown",
   "id": "8c4d4790",
   "metadata": {},
   "source": [
    "# AI TECH INSTITUTE · Week 00 Deep Dive — Print, Comments, and input()"
   ]
  },
  {
   "cell_type": "markdown",
   "id": "7840780f",
   "metadata": {},
   "source": [
    "Master the fundamentals of console I/O and communication with your future self."
   ]
  },
  {
   "cell_type": "markdown",
   "id": "4629b455",
   "metadata": {},
   "source": [
    "## 1. print() essentials"
   ]
  },
  {
   "cell_type": "code",
   "execution_count": 9,
   "id": "bcfc68a4",
   "metadata": {},
   "outputs": [
    {
     "name": "stdout",
     "output_type": "stream",
     "text": [
      "AI · Tech · Institute 🚀\n"
     ]
    }
   ],
   "source": [
    "print(\"AI\", \"Tech\", \"Institute\", sep=\" · \", end=\" 🚀\\n\")"
   ]
  },
  {
   "cell_type": "markdown",
   "id": "f6c2dbe0",
   "metadata": {},
   "source": [
    "### Exercise A1 — Echo 3 ways (easy)\n",
    "Print your name using: (1) simple print, (2) f-string, (3) string concatenation."
   ]
  },
  {
   "cell_type": "code",
   "execution_count": 10,
   "id": "3888946c",
   "metadata": {},
   "outputs": [
    {
     "name": "stdout",
     "output_type": "stream",
     "text": [
      "Jessica\n",
      "My name is Jessica\n",
      "My name is Jessica\n"
     ]
    }
   ],
   "source": [
    "# Define name\n",
    "name = \"Jessica\"\n",
    "\n",
    "print(name)\n",
    "print(f\"My name is {name}\")\n",
    "print(\"My name is \" + name)"
   ]
  },
  {
   "cell_type": "markdown",
   "id": "508367a4",
   "metadata": {},
   "source": [
    "<details>\n",
    "<summary><b>Solution</b></summary>\n",
    "\n",
    "```python\n",
    "name=\"Amir\"\n",
    "print(name)\n",
    "print(f\"My name is {name}\")\n",
    "print(\"My name is \" + name)\n",
    "```\n",
    "</details>"
   ]
  },
  {
   "cell_type": "markdown",
   "id": "46703d59",
   "metadata": {},
   "source": [
    "## 2. Comments & docstrings"
   ]
  },
  {
   "cell_type": "code",
   "execution_count": 11,
   "id": "bae151b0",
   "metadata": {},
   "outputs": [
    {
     "name": "stdout",
     "output_type": "stream",
     "text": [
      "Ready\n"
     ]
    }
   ],
   "source": [
    "# Single-line comment\n",
    "\"\"\" Module or block docstring explaining purpose. \"\"\"\n",
    "print(\"Ready\")"
   ]
  },
  {
   "cell_type": "markdown",
   "id": "413471dd",
   "metadata": {},
   "source": [
    "### Exercise A2 — Annotate (easy)\n",
    "Add comments explaining each line of a short script that computes area of a circle."
   ]
  },
  {
   "cell_type": "code",
   "execution_count": 14,
   "id": "6d071089",
   "metadata": {},
   "outputs": [
    {
     "name": "stdout",
     "output_type": "stream",
     "text": [
      "78.53975\n"
     ]
    }
   ],
   "source": [
    "# radius input\n",
    "r = 5\n",
    "\n",
    "# compute area\n",
    "result = 3.14159 * (r**2)\n",
    "\n",
    "# show result\n",
    "print(result)"
   ]
  },
  {
   "cell_type": "markdown",
   "id": "6976b962",
   "metadata": {},
   "source": [
    "<details>\n",
    "<summary><b>Solution</b></summary>\n",
    "\n",
    "```python\n",
    "# radius input\n",
    "r = 3\n",
    "# compute area\n",
    "area = 3.14159 * (r**2)\n",
    "# show result\n",
    "print(area)\n",
    "```\n",
    "</details>"
   ]
  },
  {
   "cell_type": "markdown",
   "id": "9b13044d",
   "metadata": {},
   "source": [
    "## 3. input(): getting data\n",
    "input() returns **str** — convert to number when needed."
   ]
  },
  {
   "cell_type": "code",
   "execution_count": null,
   "id": "2ba2b0a7",
   "metadata": {},
   "outputs": [],
   "source": [
    "# age_str = input(\"Age: \")\\nage = 28  # int(age_str)\\nprint(\"Next year:\", age+1)"
   ]
  },
  {
   "cell_type": "markdown",
   "id": "c6640fe4",
   "metadata": {},
   "source": [
    "### Exercise A3 — Greeter+ (easy)\n",
    "Ask for name and favorite language, print a nice sentence."
   ]
  },
  {
   "cell_type": "code",
   "execution_count": 15,
   "id": "c4c86115",
   "metadata": {},
   "outputs": [
    {
     "name": "stdin",
     "output_type": "stream",
     "text": [
      "Enter your name Jess\n",
      "Enter favourite language Italian\n"
     ]
    },
    {
     "name": "stdout",
     "output_type": "stream",
     "text": [
      "My name is Jess and my favourite language is Italian\n"
     ]
    }
   ],
   "source": [
    "# Ask for name and favourite language\n",
    "name = input(\"Enter your name\")\n",
    "language = input(\"Enter favourite language\")\n",
    "\n",
    "print(f\"My name is {name} and my favourite language is {language}\")\n"
   ]
  },
  {
   "cell_type": "markdown",
   "id": "2ff3fc3b",
   "metadata": {},
   "source": [
    "<details>\n",
    "<summary><b>Solution</b></summary>\n",
    "\n",
    "```python\n",
    "name = \"Alex\"\n",
    "lang = \"Python\"\n",
    "print(f\"Nice to meet you, {name}. {lang} is awesome!\")\n",
    "```\n",
    "</details>"
   ]
  },
  {
   "cell_type": "markdown",
   "id": "281c4464",
   "metadata": {},
   "source": [
    "### Exercise A4 — Unit converter (medium)\n",
    "Ask for kilometers (float), convert to miles, round to 2 dp."
   ]
  },
  {
   "cell_type": "code",
   "execution_count": 19,
   "id": "9f3b5382",
   "metadata": {},
   "outputs": [
    {
     "name": "stdin",
     "output_type": "stream",
     "text": [
      "Enter KM 5\n"
     ]
    },
    {
     "name": "stdout",
     "output_type": "stream",
     "text": [
      "5.0 km is equal to 3.11 miles\n"
     ]
    }
   ],
   "source": [
    "# Ask for kilometer\n",
    "km = float(input(\"Enter KM\"))\n",
    "\n",
    "# Convert to miles and round to 2 dp.\n",
    "miles = round(km * 0.621371, 2)\n",
    "\n",
    "print(f\"{km} km is equal to {miles} miles\")"
   ]
  },
  {
   "cell_type": "markdown",
   "id": "fad124cb",
   "metadata": {},
   "source": [
    "<details>\n",
    "<summary><b>Solution</b></summary>\n",
    "\n",
    "```python\n",
    "km = 5.0\n",
    "miles = round(km * 0.621371, 2)\n",
    "print(miles)\n",
    "```\n",
    "</details>"
   ]
  },
  {
   "cell_type": "markdown",
   "id": "2e50e972",
   "metadata": {},
   "source": [
    "### Exercise A5 — Safe input (hard)\n",
    "Keep asking for an integer until the user provides a valid one (use try/except)."
   ]
  },
  {
   "cell_type": "code",
   "execution_count": 24,
   "id": "933f5994",
   "metadata": {},
   "outputs": [
    {
     "name": "stdin",
     "output_type": "stream",
     "text": [
      "Enter integer le\n"
     ]
    },
    {
     "name": "stdout",
     "output_type": "stream",
     "text": [
      "That's not a valid integer. Please try again.\n"
     ]
    },
    {
     "name": "stdin",
     "output_type": "stream",
     "text": [
      "Enter integer 5\n"
     ]
    },
    {
     "name": "stdout",
     "output_type": "stream",
     "text": [
      "You entered the integer 5\n"
     ]
    }
   ],
   "source": [
    "# Ask for an integer\n",
    "\n",
    "while True:\n",
    "    try:\n",
    "        user_input = input(\"Enter integer\")\n",
    "        number = int(user_input)\n",
    "        print(f\"You entered the integer {user_input}\")\n",
    "        break\n",
    "    except ValueError:\n",
    "        print(\"That's not a valid integer. Please try again.\")"
   ]
  },
  {
   "cell_type": "markdown",
   "id": "79cf8cd1",
   "metadata": {},
   "source": [
    "<details>\n",
    "<summary><b>Solution</b></summary>\n",
    "\n",
    "```python\n",
    "while True:\n",
    "    s = \"42\"\n",
    "    try:\n",
    "        val = int(s)\n",
    "        break\n",
    "    except ValueError:\n",
    "        pass\n",
    "print(val)\n",
    "```\n",
    "</details>"
   ]
  }
 ],
 "metadata": {
  "kernelspec": {
   "display_name": "Python [conda env:base] *",
   "language": "python",
   "name": "conda-base-py"
  },
  "language_info": {
   "codemirror_mode": {
    "name": "ipython",
    "version": 3
   },
   "file_extension": ".py",
   "mimetype": "text/x-python",
   "name": "python",
   "nbconvert_exporter": "python",
   "pygments_lexer": "ipython3",
   "version": "3.13.5"
  },
  "toc": {
   "base_numbering": 1,
   "nav_menu": {},
   "number_sections": false,
   "sideBar": true,
   "skip_h1_title": false,
   "title_cell": "Table of Contents",
   "title_sidebar": "Contents",
   "toc_cell": false,
   "toc_position": {},
   "toc_section_display": true,
   "toc_window_display": true
  }
 },
 "nbformat": 4,
 "nbformat_minor": 5
}
