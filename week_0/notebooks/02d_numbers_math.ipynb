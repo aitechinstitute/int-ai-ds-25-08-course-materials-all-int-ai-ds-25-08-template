{
 "cells": [
  {
   "cell_type": "markdown",
   "id": "05d98015",
   "metadata": {},
   "source": [
    "# Week 00 Deep Dive — Numbers & Math"
   ]
  },
  {
   "cell_type": "markdown",
   "id": "c320d451",
   "metadata": {},
   "source": [
    "Operators, rounding, randomness, and small numeric patterns."
   ]
  },
  {
   "cell_type": "markdown",
   "id": "622b8f23",
   "metadata": {},
   "source": [
    "## 1. Operators & precedence"
   ]
  },
  {
   "cell_type": "code",
   "execution_count": 1,
   "id": "37c8becd",
   "metadata": {},
   "outputs": [
    {
     "name": "stdout",
     "output_type": "stream",
     "text": [
      "14 20 2 1 1024\n"
     ]
    }
   ],
   "source": [
    "print(2+3*4, (2+3)*4, 7//3, 7%3, 2**10)"
   ]
  },
  {
   "cell_type": "markdown",
   "id": "87e852e9",
   "metadata": {},
   "source": [
    "### Exercise D1 — Tip splitter (easy)\n",
    "Compute each person's share with a tip percentage."
   ]
  },
  {
   "cell_type": "code",
   "execution_count": 8,
   "id": "46ab8791",
   "metadata": {},
   "outputs": [
    {
     "name": "stdout",
     "output_type": "stream",
     "text": [
      "55.0\n"
     ]
    }
   ],
   "source": [
    "bill = 200\n",
    "tip = 10\n",
    "number = 4\n",
    "\n",
    "total = bill*(1+tip/100)\n",
    "print(round(total/number,2))\n"
   ]
  },
  {
   "cell_type": "markdown",
   "id": "28abae84",
   "metadata": {},
   "source": [
    "<details>\n",
    "<summary><b>Solution</b></summary>\n",
    "\n",
    "```python\n",
    "bill=50; tip=10; n=3\n",
    "total=bill*(1+tip/100)\n",
    "print(round(total/n,2))\n",
    "```\n",
    "</details>"
   ]
  },
  {
   "cell_type": "markdown",
   "id": "3c5d35cf",
   "metadata": {},
   "source": [
    "## 2. Rounding & formatting"
   ]
  },
  {
   "cell_type": "code",
   "execution_count": 9,
   "id": "f652b6b3",
   "metadata": {},
   "outputs": [
    {
     "name": "stdout",
     "output_type": "stream",
     "text": [
      "3.142 3.142\n"
     ]
    }
   ],
   "source": [
    "x=3.1415926\n",
    "print(round(x,3), f\"{x:.3f}\")"
   ]
  },
  {
   "cell_type": "markdown",
   "id": "ac06d5a1",
   "metadata": {},
   "source": [
    "### Exercise D2 — CAGR (medium)\n",
    "Given start=100, end=135, years=3, compute CAGR."
   ]
  },
  {
   "cell_type": "code",
   "execution_count": 13,
   "id": "ecae469f",
   "metadata": {},
   "outputs": [
    {
     "name": "stdout",
     "output_type": "stream",
     "text": [
      "0.1052\n"
     ]
    }
   ],
   "source": [
    "ending_value=135\n",
    "beginning_value=100\n",
    "years=3\n",
    "CAGR = (ending_value/beginning_value)**(1/years)-1\n",
    "print(round(CAGR,4))\n"
   ]
  },
  {
   "cell_type": "markdown",
   "id": "841fcc94",
   "metadata": {},
   "source": [
    "<details>\n",
    "<summary><b>Solution</b></summary>\n",
    "\n",
    "```python\n",
    "start=100; end=135; years=3\n",
    "cagr=(end/start)**(1/years)-1\n",
    "print(round(cagr,4))\n",
    "```\n",
    "</details>"
   ]
  },
  {
   "cell_type": "markdown",
   "id": "88c3666d",
   "metadata": {},
   "source": [
    "### Exercise D3 — Random dice (hard)\n",
    "Simulate rolling two dice 10,000 times and estimate the probability of sum==7."
   ]
  },
  {
   "cell_type": "code",
   "execution_count": 14,
   "id": "407ada02",
   "metadata": {},
   "outputs": [
    {
     "name": "stdout",
     "output_type": "stream",
     "text": [
      "Probability of sum=7: 0.1698\n"
     ]
    }
   ],
   "source": [
    "import random\n",
    "\n",
    "times = 10000\n",
    "sevens = 0\n",
    "for i in range(times):\n",
    "    die1 = random.randint(1, 6)\n",
    "    die2 = random.randint(1, 6)\n",
    "    if die1 + die2 == 7:\n",
    "        sevens += 1\n",
    "\n",
    "probability = sevens / 10000\n",
    "print(f\"Probability of sum=7: {probability:.4f}\")"
   ]
  },
  {
   "cell_type": "markdown",
   "id": "433c38cb",
   "metadata": {},
   "source": [
    "<details>\n",
    "<summary><b>Solution</b></summary>\n",
    "\n",
    "```python\n",
    "import random\n",
    "n=10000\n",
    "hits=0\n",
    "for _ in range(n):\n",
    "    s = random.randint(1,6)+random.randint(1,6)\n",
    "    if s==7: hits+=1\n",
    "print(hits/n)\n",
    "```\n",
    "</details>"
   ]
  }
 ],
 "metadata": {
  "kernelspec": {
   "display_name": "Python [conda env:venv]",
   "language": "python",
   "name": "conda-env-venv-py"
  },
  "language_info": {
   "codemirror_mode": {
    "name": "ipython",
    "version": 3
   },
   "file_extension": ".py",
   "mimetype": "text/x-python",
   "name": "python",
   "nbconvert_exporter": "python",
   "pygments_lexer": "ipython3",
   "version": "3.12.0"
  },
  "toc": {
   "base_numbering": 1,
   "nav_menu": {},
   "number_sections": false,
   "sideBar": true,
   "skip_h1_title": false,
   "title_cell": "Table of Contents",
   "title_sidebar": "Contents",
   "toc_cell": false,
   "toc_position": {},
   "toc_section_display": true,
   "toc_window_display": true
  }
 },
 "nbformat": 4,
 "nbformat_minor": 5
}
