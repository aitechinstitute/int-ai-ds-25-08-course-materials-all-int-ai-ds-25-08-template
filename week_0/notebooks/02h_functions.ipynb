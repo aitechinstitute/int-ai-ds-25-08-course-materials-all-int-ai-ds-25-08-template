{
 "cells": [
  {
   "cell_type": "markdown",
   "id": "8bf587f5",
   "metadata": {},
   "source": [
    "# Week 00 Deep Dive — Functions"
   ]
  },
  {
   "cell_type": "markdown",
   "id": "e2f09214",
   "metadata": {},
   "source": [
    "Parameters, defaults, returns, docstrings, and small design patterns."
   ]
  },
  {
   "cell_type": "markdown",
   "id": "3c5a41ba",
   "metadata": {},
   "source": [
    "## 1. Basics & defaults"
   ]
  },
  {
   "cell_type": "code",
   "execution_count": 1,
   "id": "272b1f01",
   "metadata": {},
   "outputs": [
    {
     "name": "stdout",
     "output_type": "stream",
     "text": [
      "Hello, world! Hello, Amir!\n"
     ]
    }
   ],
   "source": [
    "def greet(name=\"world\"): return f\"Hello, {name}!\"\n",
    "print(greet(), greet(\"Amir\"))"
   ]
  },
  {
   "cell_type": "markdown",
   "id": "f44f8abb",
   "metadata": {},
   "source": [
    "### Exercise H1 — km_to_miles (easy)\n",
    "Add `precision` default=2 and return rounded value."
   ]
  },
  {
   "cell_type": "code",
   "execution_count": 3,
   "id": "40b9aab3",
   "metadata": {},
   "outputs": [
    {
     "name": "stdout",
     "output_type": "stream",
     "text": [
      "3.11\n"
     ]
    }
   ],
   "source": [
    "# Your turn\n",
    "def km_to_miles(km, precision=2):\n",
    "    return round(km*0.621371, precision)\n",
    "print(km_to_miles(5))"
   ]
  },
  {
   "cell_type": "markdown",
   "id": "e4427d3a",
   "metadata": {},
   "source": [
    "<details>\n",
    "<summary><b>Solution</b></summary>\n",
    "\n",
    "```python\n",
    "def km_to_miles(km, precision=2):\n",
    "    return round(km*0.621371, precision)\n",
    "print(km_to_miles(5))\n",
    "```\n",
    "</details>"
   ]
  },
  {
   "cell_type": "markdown",
   "id": "ab8c03cf",
   "metadata": {},
   "source": [
    "## 2. Multiple returns & type hints"
   ]
  },
  {
   "cell_type": "code",
   "execution_count": 4,
   "id": "dc2fdc40",
   "metadata": {},
   "outputs": [
    {
     "name": "stdout",
     "output_type": "stream",
     "text": [
      "{'min': 1, 'max': 3, 'mean': 2.0}\n"
     ]
    }
   ],
   "source": [
    "from typing import List, Dict\n",
    "\n",
    "def summary(xs: list) -> dict:\n",
    "    return {\"min\": min(xs), \"max\": max(xs), \"mean\": sum(xs)/len(xs)}\n",
    "print(summary([1,2,3]))"
   ]
  },
  {
   "cell_type": "markdown",
   "id": "363ea773",
   "metadata": {},
   "source": [
    "### Exercise H2 — Scoreboard (medium)\n",
    "Return `min`, `max`, `mean` (rounded) with empty-list guard."
   ]
  },
  {
   "cell_type": "code",
   "execution_count": 8,
   "id": "eb430830",
   "metadata": {},
   "outputs": [
    {
     "name": "stdout",
     "output_type": "stream",
     "text": [
      "{'min': 1, 'max': 35, 'mean': 14.75}\n"
     ]
    }
   ],
   "source": [
    "# Your turn\n",
    "def scoreboard(scores):\n",
    "    if not scores:\n",
    "        return {\"min\":None,\"max\":None,\"mean\":None}\n",
    "    return {\"min\":min(scores), \"max\":max(scores), \"mean\":round(sum(scores)/len(scores),2)}\n",
    "print(scoreboard([20,35,3,1]))"
   ]
  },
  {
   "cell_type": "markdown",
   "id": "bad84c82",
   "metadata": {},
   "source": [
    "## <details>\n",
    "<summary><b>Solution</b></summary>\n",
    "\n",
    "```python\n",
    "def scoreboard(points):\n",
    "    if not points:\n",
    "        return {\"min\":None,\"max\":None,\"mean\":None}\n",
    "    return {\"min\":min(points), \"max\":max(points), \"mean\":round(sum(points)/len(points),2)}\n",
    "print(scoreboard([10,7,13,5]))\n",
    "```\n",
    "</details>"
   ]
  },
  {
   "cell_type": "markdown",
   "id": "3da50778",
   "metadata": {},
   "source": [
    "### Exercise H3 — Compose (hard)\n",
    "Write `compose(f, g)` so `compose(f,g)(x)` equals `f(g(x))`. Test with small functions."
   ]
  },
  {
   "cell_type": "code",
   "execution_count": 9,
   "id": "455d9d76",
   "metadata": {},
   "outputs": [
    {
     "name": "stdout",
     "output_type": "stream",
     "text": [
      "25\n"
     ]
    }
   ],
   "source": [
    "# Your turn\n",
    "def compose(f,g):\n",
    "    return lambda x: f(g(x))\n",
    "inc=lambda x:x+1\n",
    "sq=lambda x:x*x\n",
    "h=compose(sq,inc)\n",
    "print(h(4)) \n"
   ]
  },
  {
   "cell_type": "markdown",
   "id": "6aade26c",
   "metadata": {},
   "source": [
    "<details>\n",
    "<summary><b>Solution</b></summary>\n",
    "\n",
    "```python\n",
    "def compose(f,g):\n",
    "    return lambda x: f(g(x))\n",
    "inc=lambda x:x+1\n",
    "sq=lambda x:x*x\n",
    "h=compose(sq,inc)\n",
    "print(h(4))  # (4+1)^2 = 25\n",
    "```\n",
    "</details>"
   ]
  }
 ],
 "metadata": {
  "kernelspec": {
   "display_name": "Python [conda env:venv]",
   "language": "python",
   "name": "conda-env-venv-py"
  },
  "language_info": {
   "codemirror_mode": {
    "name": "ipython",
    "version": 3
   },
   "file_extension": ".py",
   "mimetype": "text/x-python",
   "name": "python",
   "nbconvert_exporter": "python",
   "pygments_lexer": "ipython3",
   "version": "3.12.0"
  },
  "toc": {
   "base_numbering": 1,
   "nav_menu": {},
   "number_sections": false,
   "sideBar": true,
   "skip_h1_title": false,
   "title_cell": "Table of Contents",
   "title_sidebar": "Contents",
   "toc_cell": false,
   "toc_position": {},
   "toc_section_display": true,
   "toc_window_display": true
  }
 },
 "nbformat": 4,
 "nbformat_minor": 5
}
