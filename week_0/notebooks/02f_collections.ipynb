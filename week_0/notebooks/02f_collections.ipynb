{
 "cells": [
  {
   "cell_type": "markdown",
   "id": "ac1c4f8c",
   "metadata": {},
   "source": [
    "# Week 00 Deep Dive — Collections"
   ]
  },
  {
   "cell_type": "markdown",
   "id": "1084d588",
   "metadata": {},
   "source": [
    "Lists, tuples, sets, dicts — plus nested patterns."
   ]
  },
  {
   "cell_type": "markdown",
   "id": "aa519eb9",
   "metadata": {},
   "source": [
    "## 1. Lists & list-comprehensions"
   ]
  },
  {
   "cell_type": "code",
   "execution_count": 1,
   "id": "89b1f1ce",
   "metadata": {},
   "outputs": [
    {
     "name": "stdout",
     "output_type": "stream",
     "text": [
      "[1, 2, 3, 5] [1, 4, 9, 25]\n"
     ]
    }
   ],
   "source": [
    "nums=[3,1,2]; nums.append(5); nums.sort(); sq=[n*n for n in nums]; print(nums, sq)"
   ]
  },
  {
   "cell_type": "markdown",
   "id": "0e352859",
   "metadata": {},
   "source": [
    "### Exercise F1 — Unique sorted (easy)\n",
    "Remove duplicates and sort."
   ]
  },
  {
   "cell_type": "code",
   "execution_count": 3,
   "id": "1e202856",
   "metadata": {},
   "outputs": [
    {
     "name": "stdout",
     "output_type": "stream",
     "text": [
      "[2, 3, 5, 6, 7, 8]\n"
     ]
    }
   ],
   "source": [
    "# Your turn\n",
    "nums = {2,5,8,6,5,7,2,3}\n",
    "print(sorted(nums))\n"
   ]
  },
  {
   "cell_type": "markdown",
   "id": "aabc84fb",
   "metadata": {},
   "source": [
    "<details>\n",
    "<summary><b>Solution</b></summary>\n",
    "\n",
    "```python\n",
    "data=[3,1,2,3,2,1]\n",
    "unique=sorted(set(data))\n",
    "print(unique)\n",
    "```\n",
    "</details>"
   ]
  },
  {
   "cell_type": "markdown",
   "id": "1f7888ff",
   "metadata": {},
   "source": [
    "## 2. Dicts & lookups"
   ]
  },
  {
   "cell_type": "code",
   "execution_count": 4,
   "id": "194077f0",
   "metadata": {},
   "outputs": [
    {
     "name": "stdout",
     "output_type": "stream",
     "text": [
      "2.5 0.0\n"
     ]
    }
   ],
   "source": [
    "prices={\"apple\":2.5,\"choc\":3.0}; print(prices.get(\"apple\"), prices.get(\"soda\", 0.0))"
   ]
  },
  {
   "cell_type": "markdown",
   "id": "b27afb89",
   "metadata": {},
   "source": [
    "### Exercise F2 — Frequency map (medium)\n",
    "Count character frequencies in a string."
   ]
  },
  {
   "cell_type": "code",
   "execution_count": 5,
   "id": "e7c1a3cb",
   "metadata": {},
   "outputs": [
    {
     "name": "stdout",
     "output_type": "stream",
     "text": [
      "{'h': 1, 'e': 1, 'l': 2, 'o': 1}\n"
     ]
    }
   ],
   "source": [
    "# Your turn\n",
    "text = \"hello\"\n",
    "freq = {}\n",
    "for char in text:\n",
    "    if char in freq:\n",
    "        freq[char] = freq[char] + 1\n",
    "    else:\n",
    "        freq[char] = 1  \n",
    "print(freq)"
   ]
  },
  {
   "cell_type": "markdown",
   "id": "76bd56d6",
   "metadata": {},
   "source": [
    "<details>\n",
    "<summary><b>Solution</b></summary>\n",
    "\n",
    "```python\n",
    "s=\"banana\"\n",
    "freq={}\n",
    "for ch in s:\n",
    "    freq[ch]=freq.get(ch,0)+1\n",
    "print(freq)\n",
    "```\n",
    "</details>"
   ]
  },
  {
   "cell_type": "markdown",
   "id": "13cd5712",
   "metadata": {},
   "source": [
    "### Exercise F3 — Nested structures (hard)\n",
    "Create a class roster as list-of-dicts and compute average age."
   ]
  },
  {
   "cell_type": "code",
   "execution_count": 6,
   "id": "173a7941",
   "metadata": {},
   "outputs": [
    {
     "name": "stdout",
     "output_type": "stream",
     "text": [
      "32.0\n"
     ]
    }
   ],
   "source": [
    "# Your turn\n",
    "staff=[{\"name\":\"Jess\",\"age\":35},{\"name\":\"Luiza\",\"age\":29}]\n",
    "avg=sum(s[\"age\"] for s in staff)/len(staff)\n",
    "print(round(avg,2))"
   ]
  },
  {
   "cell_type": "markdown",
   "id": "042a381f",
   "metadata": {},
   "source": [
    "<details>\n",
    "<summary><b>Solution</b></summary>\n",
    "\n",
    "```python\n",
    "students=[{\"name\":\"Ali\",\"age\":22},{\"name\":\"Sara\",\"age\":24}]\n",
    "avg=sum(s[\"age\"] for s in students)/len(students)\n",
    "print(round(avg,2))\n",
    "```\n",
    "</details>"
   ]
  }
 ],
 "metadata": {
  "kernelspec": {
   "display_name": "Python [conda env:venv]",
   "language": "python",
   "name": "conda-env-venv-py"
  },
  "language_info": {
   "codemirror_mode": {
    "name": "ipython",
    "version": 3
   },
   "file_extension": ".py",
   "mimetype": "text/x-python",
   "name": "python",
   "nbconvert_exporter": "python",
   "pygments_lexer": "ipython3",
   "version": "3.12.0"
  },
  "toc": {
   "base_numbering": 1,
   "nav_menu": {},
   "number_sections": false,
   "sideBar": true,
   "skip_h1_title": false,
   "title_cell": "Table of Contents",
   "title_sidebar": "Contents",
   "toc_cell": false,
   "toc_position": {},
   "toc_section_display": true,
   "toc_window_display": true
  }
 },
 "nbformat": 4,
 "nbformat_minor": 5
}
