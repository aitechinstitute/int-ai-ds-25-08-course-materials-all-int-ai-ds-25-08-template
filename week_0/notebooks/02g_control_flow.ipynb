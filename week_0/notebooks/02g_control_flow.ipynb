{
 "cells": [
  {
   "cell_type": "markdown",
   "id": "b8107709",
   "metadata": {},
   "source": [
    "# Week 00 Deep Dive — Control Flow"
   ]
  },
  {
   "cell_type": "markdown",
   "id": "b98fa1f4",
   "metadata": {},
   "source": [
    "If/elif/else, for/while, range — robust patterns."
   ]
  },
  {
   "cell_type": "markdown",
   "id": "978bd5ff",
   "metadata": {},
   "source": [
    "## 1. For + range"
   ]
  },
  {
   "cell_type": "code",
   "execution_count": 1,
   "id": "35641107",
   "metadata": {},
   "outputs": [
    {
     "name": "stdout",
     "output_type": "stream",
     "text": [
      "1 🎯\n",
      "2 🎯\n",
      "3 🎯\n",
      "4 🎯\n",
      "5 🎯\n"
     ]
    }
   ],
   "source": [
    "for i in range(1,6): print(i, \"🎯\")"
   ]
  },
  {
   "cell_type": "markdown",
   "id": "383c6399",
   "metadata": {},
   "source": [
    "### Exercise G1 — FizzBuzz+ (easy→medium)\n",
    "Extend to include multiples of 7 → 'AI'."
   ]
  },
  {
   "cell_type": "code",
   "execution_count": 4,
   "id": "3d902f58",
   "metadata": {},
   "outputs": [
    {
     "name": "stdout",
     "output_type": "stream",
     "text": [
      "1\n",
      "2\n",
      "Fizz\n",
      "4\n",
      "Buzz\n",
      "Fizz\n",
      "AI\n",
      "8\n",
      "Fizz\n",
      "Buzz\n",
      "11\n",
      "Fizz\n",
      "13\n",
      "AI\n",
      "FizzBuzz\n",
      "16\n",
      "17\n",
      "Fizz\n",
      "19\n",
      "Buzz\n",
      "FizzAI\n",
      "22\n",
      "23\n",
      "Fizz\n",
      "Buzz\n",
      "26\n",
      "Fizz\n",
      "AI\n",
      "29\n",
      "FizzBuzz\n",
      "31\n",
      "32\n",
      "Fizz\n",
      "34\n"
     ]
    }
   ],
   "source": [
    "# Your turn\n",
    "for n in range (1,35):\n",
    "    out=\"\"\n",
    "    if n%3==0: out+=\"Fizz\"\n",
    "    if n%5==0: out+=\"Buzz\"\n",
    "    if n%7==0: out+=\"AI\"\n",
    "    print(out or n)"
   ]
  },
  {
   "cell_type": "markdown",
   "id": "a2cf583c",
   "metadata": {},
   "source": [
    "<details>\n",
    "<summary><b>Solution</b></summary>\n",
    "\n",
    "```python\n",
    "for n in range(1,31):\n",
    "    out=\"\"\n",
    "    if n%3==0: out+=\"Fizz\"\n",
    "    if n%5==0: out+=\"Buzz\"\n",
    "    if n%7==0: out+=\"AI\"\n",
    "    print(out or n)\n",
    "```\n",
    "</details>"
   ]
  },
  {
   "cell_type": "markdown",
   "id": "715ca040",
   "metadata": {},
   "source": [
    "## 2. While & breaks"
   ]
  },
  {
   "cell_type": "code",
   "execution_count": 5,
   "id": "c4fe65a4",
   "metadata": {},
   "outputs": [
    {
     "name": "stdout",
     "output_type": "stream",
     "text": [
      "5\n",
      "4\n",
      "3\n",
      "2\n",
      "1\n",
      "Go!\n"
     ]
    }
   ],
   "source": [
    "n=5\n",
    "while n>0:\n",
    "    print(n)\n",
    "    n-=1\n",
    "print(\"Go!\")"
   ]
  },
  {
   "cell_type": "markdown",
   "id": "7dfcf249",
   "metadata": {},
   "source": [
    "### Exercise G2 — Number guessing (medium)\n",
    "Loop until correct, give higher/lower hints, count attempts."
   ]
  },
  {
   "cell_type": "code",
   "execution_count": 7,
   "id": "b1d8918d",
   "metadata": {},
   "outputs": [
    {
     "name": "stdin",
     "output_type": "stream",
     "text": [
      "Guess a number:  10\n"
     ]
    },
    {
     "name": "stdout",
     "output_type": "stream",
     "text": [
      "Higher\n"
     ]
    },
    {
     "name": "stdin",
     "output_type": "stream",
     "text": [
      "Guess a number:  15\n"
     ]
    },
    {
     "name": "stdout",
     "output_type": "stream",
     "text": [
      "Lower\n"
     ]
    },
    {
     "name": "stdin",
     "output_type": "stream",
     "text": [
      "Guess a number:  12\n"
     ]
    },
    {
     "name": "stdout",
     "output_type": "stream",
     "text": [
      "Correct!\n",
      "You took 3 tries\n"
     ]
    }
   ],
   "source": [
    "# Your turn\n",
    "secret = 12\n",
    "tries = 0\n",
    "\n",
    "while True:\n",
    "    guess = int(input(\"Guess a number: \"))\n",
    "    tries = tries + 1\n",
    "    \n",
    "    if guess == secret:\n",
    "        print(\"Correct!\")\n",
    "        print(\"You took\", tries, \"tries\")\n",
    "        break\n",
    "    elif guess < secret:\n",
    "        print(\"Higher\")\n",
    "    else:\n",
    "        print(\"Lower\")"
   ]
  },
  {
   "cell_type": "markdown",
   "id": "e5687c7d",
   "metadata": {},
   "source": [
    "<details>\n",
    "<summary><b>Solution</b></summary>\n",
    "\n",
    "```python\n",
    "secret=7\n",
    "tries=0\n",
    "guess=7\n",
    "while True:\n",
    "    tries+=1\n",
    "    if guess==secret:\n",
    "        print(f\"Correct in {tries}\"); break\n",
    "    print(\"higher\" if guess<secret else \"lower\")\n",
    "```\n",
    "</details>"
   ]
  },
  {
   "cell_type": "markdown",
   "id": "c9f5d2ad",
   "metadata": {},
   "source": [
    "### Exercise G3 — Menu loop (hard)\n",
    "Build a CLI menu: 1) add item, 2) list items, 3) quit."
   ]
  },
  {
   "cell_type": "code",
   "execution_count": null,
   "id": "8d931d0e",
   "metadata": {},
   "outputs": [],
   "source": [
    "# Your turn\n",
    "items = []\n",
    "\n",
    "while True:\n",
    "    print(\"1) Add item\")\n",
    "    print(\"2) List items\")\n",
    "    print(\"3) Quit\")\n",
    "    \n",
    "    choice = input(\"Pick 1, 2, or 3: \")\n",
    "    \n",
    "    if choice == \"1\":\n",
    "        item = input(\"Enter item: \")\n",
    "        items.append(item)\n",
    "        print(\"Added!\")\n",
    "    \n",
    "    elif choice == \"2\":\n",
    "        print(\"Your items:\")\n",
    "        for item in items:\n",
    "            print(\"- \" + item)\n",
    "    \n",
    "    elif choice == \"3\":\n",
    "        print(\"Goodbye!\")\n",
    "        break\n",
    "    \n",
    "    else:\n",
    "        print(\"Invalid choice\")"
   ]
  },
  {
   "cell_type": "markdown",
   "id": "c20531d1",
   "metadata": {},
   "source": [
    "<details>\n",
    "<summary><b>Solution</b></summary>\n",
    "\n",
    "```python\n",
    "items=[]\n",
    "# choice=\"1\"\n",
    "# while choice!=\"3\":\n",
    "#     if choice==\"1\": items.append(\"x\")\n",
    "#     elif choice==\"2\": print(items)\n",
    "#     choice=\"3\"\n",
    "print(items)\n",
    "```\n",
    "</details>"
   ]
  }
 ],
 "metadata": {
  "kernelspec": {
   "display_name": "Python [conda env:venv]",
   "language": "python",
   "name": "conda-env-venv-py"
  },
  "language_info": {
   "codemirror_mode": {
    "name": "ipython",
    "version": 3
   },
   "file_extension": ".py",
   "mimetype": "text/x-python",
   "name": "python",
   "nbconvert_exporter": "python",
   "pygments_lexer": "ipython3",
   "version": "3.12.0"
  },
  "toc": {
   "base_numbering": 1,
   "nav_menu": {},
   "number_sections": false,
   "sideBar": true,
   "skip_h1_title": false,
   "title_cell": "Table of Contents",
   "title_sidebar": "Contents",
   "toc_cell": false,
   "toc_position": {},
   "toc_section_display": true,
   "toc_window_display": true
  }
 },
 "nbformat": 4,
 "nbformat_minor": 5
}
