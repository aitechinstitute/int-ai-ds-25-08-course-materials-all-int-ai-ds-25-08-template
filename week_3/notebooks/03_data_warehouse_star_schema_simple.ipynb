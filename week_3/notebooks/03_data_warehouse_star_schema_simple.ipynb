{
 "cells": [
  {
   "cell_type": "markdown",
   "id": "796798fc",
   "metadata": {},
   "source": [
    "# Data Warehouse & Star Schema — **Super Simple Notebook**\n",
    "\n",
    "_Made to be very, very simple. Lots of tiny steps: explanation → code → explanation → code._\n",
    "\n",
    "_Generated on 2025-09-11._"
   ]
  },
  {
   "cell_type": "markdown",
   "id": "3353b7c6",
   "metadata": {},
   "source": [
    "## 0) What you'll learn (in plain English)\n",
    "- What a **data warehouse** is, and why it exists.\n",
    "- What **OLTP vs OLAP** means (and why we separate them).\n",
    "- What a **star schema** is: one **fact table** in the middle and several **dimension tables** around it.\n",
    "- How to define the **grain** of a fact table.\n",
    "- How to build tiny **dimension** and **fact** tables with pandas.\n",
    "- How to do a simple **star join** and a couple of **analytical queries**.\n",
    "- A taste of **ETL/ELT** and **Slowly Changing Dimensions (SCD)**, super short and friendly."
   ]
  },
  {
   "cell_type": "markdown",
   "id": "c9c740cb",
   "metadata": {},
   "source": [
    "## 1) What is a data warehouse?\n",
    "A **data warehouse (DW)** is a special database used for **analytics** and **reporting**. It collects data from many systems, makes it clean and consistent, and stores it in a shape that is easy to analyze (usually **star schemas**).\n",
    "\n",
    "Key ideas:\n",
    "- **Stable** data model meant for reading a lot, not for frequent tiny updates.\n",
    "- **Subject‑oriented** (e.g., sales, marketing, finance) not app‑feature oriented.\n",
    "- **Integrated** (different sources become one consistent view).\n",
    "- **Time‑variant** (we keep history).\n",
    "- **Non‑volatile** (we load data, we don’t constantly edit old records)."
   ]
  },
  {
   "cell_type": "markdown",
   "id": "bae450e1",
   "metadata": {},
   "source": [
    "### 1.1) OLTP vs OLAP (super short)\n",
    "- **OLTP** (Online Transaction Processing): apps that handle day‑to‑day transactions (e.g., shopping cart). Tables are highly normalized, many small writes.\n",
    "- **OLAP** (Online Analytical Processing): analytics/reporting. We read a lot, summarize, slice/dice. Star schemas help make this fast and simple."
   ]
  },
  {
   "cell_type": "markdown",
   "id": "6acf7cdf",
   "metadata": {},
   "source": [
    "## 2) Dimensional modeling in one minute\n",
    "- A **fact** is an **event** we can count or sum (e.g., a sale).\n",
    "- A **dimension** gives **context** about the fact (e.g., product, customer, date).\n",
    "- A **star schema** = **1 fact** in the middle + **multiple dimensions** around it.\n",
    "- **Grain**: the exact level of detail in the fact table (e.g., _one row per line item per order_). You must define grain **first**."
   ]
  },
  {
   "cell_type": "markdown",
   "id": "a9d4e14c",
   "metadata": {},
   "source": [
    "> We will build a tiny sales star schema: `FactSales` in the center, with `DimDate`, `DimProduct`, `DimCustomer`."
   ]
  },
  {
   "cell_type": "markdown",
   "id": "cfd2e6bc",
   "metadata": {},
   "source": [
    "## 3) Setup (tiny)\n",
    "We use **pandas** only. No databases. Just DataFrames to show the shape and the joins."
   ]
  },
  {
   "cell_type": "code",
   "execution_count": null,
   "id": "d8b527bf",
   "metadata": {},
   "outputs": [],
   "source": [
    "import pandas as pd\n",
    "pd.set_option('display.width', 120)\n",
    "pd.set_option('display.max_columns', 20)\n",
    "print('pandas version:', pd.__version__)"
   ]
  },
  {
   "cell_type": "markdown",
   "id": "9f95da90",
   "metadata": {},
   "source": [
    "## 4) Define the grain (most important step)\n",
    "**Grain** of our fact table `FactSales`:\n",
    "- **One row per**: _sales line item_ (a single product on a single order on a single day).\n",
    "- Measures: `quantity_sold`, `sales_amount`.\n",
    "- Foreign keys to dimensions: `date_key`, `product_key`, `customer_key`."
   ]
  },
  {
   "cell_type": "markdown",
   "id": "5bf289db",
   "metadata": {},
   "source": [
    "## 5) Build tiny dimension tables\n",
    "We keep it **super small** and use **surrogate keys** (integers)."
   ]
  },
  {
   "cell_type": "code",
   "execution_count": null,
   "id": "18d8387c",
   "metadata": {},
   "outputs": [],
   "source": [
    "DimDate = pd.DataFrame({\n",
    "    'date_key':   [20240101, 20240102, 20240103],  # yyyymmdd as int for simplicity\n",
    "    'date':       pd.to_datetime(['2024-01-01', '2024-01-02', '2024-01-03']),\n",
    "    'year':       [2024, 2024, 2024],\n",
    "    'month':      [1, 1, 1],\n",
    "    'day':        [1, 2, 3],\n",
    "})\n",
    "DimProduct = pd.DataFrame({\n",
    "    'product_key': [1, 2, 3],\n",
    "    'product_name': ['Widget A', 'Widget B', 'Widget C'],\n",
    "    'category': ['Widgets', 'Widgets', 'Widgets']\n",
    "})\n",
    "DimCustomer = pd.DataFrame({\n",
    "    'customer_key': [10, 11],\n",
    "    'customer_name': ['Acme Pty Ltd', 'Bravo Co'],\n",
    "    'region': ['WA', 'VIC']\n",
    "})\n",
    "DimDate, DimProduct, DimCustomer"
   ]
  },
  {
   "cell_type": "markdown",
   "id": "9e21d6b8",
   "metadata": {},
   "source": [
    "**Why surrogate keys?**\n",
    "They make joins simple and stable even if source system IDs change. We **don’t** use natural keys directly in the fact table."
   ]
  },
  {
   "cell_type": "markdown",
   "id": "514de1e6",
   "metadata": {},
   "source": [
    "## 6) Build the fact table (matching the grain)\n",
    "Each row is **one sales line** with the keys pointing to each dimension."
   ]
  },
  {
   "cell_type": "code",
   "execution_count": null,
   "id": "201c96b4",
   "metadata": {},
   "outputs": [],
   "source": [
    "FactSales = pd.DataFrame({\n",
    "    'date_key':    [20240101, 20240101, 20240102, 20240103],\n",
    "    'product_key': [1,        2,        2,        3       ],\n",
    "    'customer_key':[10,       10,       11,       11      ],\n",
    "    'quantity_sold':[2,       1,        3,        5       ],\n",
    "    'sales_amount':[200.0,    120.0,    360.0,    750.0   ],\n",
    "})\n",
    "FactSales"
   ]
  },
  {
   "cell_type": "markdown",
   "id": "82c819dd",
   "metadata": {},
   "source": [
    "## 7) Star join (bring facts + context together)\n",
    "We join the fact with each dimension using the surrogate keys."
   ]
  },
  {
   "cell_type": "code",
   "execution_count": null,
   "id": "13e366c2",
   "metadata": {},
   "outputs": [],
   "source": [
    "# Join Fact → Dim tables (star join)\n",
    "star = (FactSales\n",
    "        .merge(DimDate,   on='date_key',   how='left')\n",
    "        .merge(DimProduct,on='product_key',how='left')\n",
    "        .merge(DimCustomer,on='customer_key',how='left')\n",
    ")\n",
    "star"
   ]
  },
  {
   "cell_type": "markdown",
   "id": "81fcd777",
   "metadata": {},
   "source": [
    "## 8) Simple analytics (keep it tiny)\n",
    "### 8.1) Total sales by product\n",
    "This is a very common type of aggregation in a warehouse."
   ]
  },
  {
   "cell_type": "code",
   "execution_count": null,
   "id": "d35d361f",
   "metadata": {},
   "outputs": [],
   "source": [
    "star.groupby('product_name', as_index=False)['sales_amount'].sum().sort_values('sales_amount', ascending=False)"
   ]
  },
  {
   "cell_type": "markdown",
   "id": "15e5e547",
   "metadata": {},
   "source": [
    "### 8.2) Total quantity by date\n",
    "Roll up by time is a common pattern (Date dimension is very handy)."
   ]
  },
  {
   "cell_type": "code",
   "execution_count": null,
   "id": "14cef163",
   "metadata": {},
   "outputs": [],
   "source": [
    "star.groupby('date', as_index=False)['quantity_sold'].sum().sort_values('date')"
   ]
  },
  {
   "cell_type": "markdown",
   "id": "9de1756b",
   "metadata": {},
   "source": [
    "### 8.3) Total sales by customer and region\n",
    "Dimensions let you slice results in many ways without changing the fact table."
   ]
  },
  {
   "cell_type": "code",
   "execution_count": null,
   "id": "7c5e741c",
   "metadata": {},
   "outputs": [],
   "source": [
    "star.groupby(['customer_name','region'], as_index=False)['sales_amount'].sum().sort_values('sales_amount', ascending=False)"
   ]
  },
  {
   "cell_type": "markdown",
   "id": "fda42454",
   "metadata": {},
   "source": [
    "## 9) Tiny Date Dimension generator (optional but handy)\n",
    "Warehouses often use a **full Date dimension**. Here’s a **super small** generator."
   ]
  },
  {
   "cell_type": "code",
   "execution_count": null,
   "id": "6ddf5783",
   "metadata": {},
   "outputs": [],
   "source": [
    "def build_dim_date(start='2024-01-01', end='2024-01-05'):\n",
    "    dates = pd.date_range(start, end, freq='D')\n",
    "    df = pd.DataFrame({'date': dates})\n",
    "    df['date_key'] = df['date'].dt.strftime('%Y%m%d').astype(int)\n",
    "    df['year'] = df['date'].dt.year\n",
    "    df['quarter'] = df['date'].dt.quarter\n",
    "    df['month'] = df['date'].dt.month\n",
    "    df['day'] = df['date'].dt.day\n",
    "    return df[['date_key','date','year','quarter','month','day']]\n",
    "\n",
    "build_dim_date()"
   ]
  },
  {
   "cell_type": "markdown",
   "id": "adab9195",
   "metadata": {},
   "source": [
    "## 10) ETL/ELT in one breath (the simplest view)\n",
    "- **Extract** from sources (apps, files, APIs).\n",
    "- **Transform** (clean, standardize, conform to dimensions, add surrogate keys).\n",
    "- **Load** into the warehouse (append facts, update dims).\n",
    "\n",
    "Modern stacks often do **ELT** (load first into a staging area, transform inside the warehouse)."
   ]
  },
  {
   "cell_type": "markdown",
   "id": "75ad2db0",
   "metadata": {},
   "source": [
    "## 11) Slowly Changing Dimensions (SCD) — tiny taste\n",
    "- **Type 1**: overwrite old attribute (no history). Simple.\n",
    "- **Type 2**: keep history by adding a new row with a new surrogate key and validity dates. Most common for things like customer attributes that change over time.\n",
    "\n",
    "We won’t implement a full SCD here, but remember: **facts** don’t change, **dimensions** can."
   ]
  },
  {
   "cell_type": "markdown",
   "id": "41287864",
   "metadata": {},
   "source": [
    "## 12) Recap — the 5 rules to remember\n",
    "1. **Pick the grain first** (level of detail per fact row).\n",
    "2. **Use surrogate keys** for dimensions.\n",
    "3. **Keep facts numeric and additive/semi‑additive** where possible.\n",
    "4. **Dimensions give context** (names, categories, dates, regions, etc.).\n",
    "5. **Star join** makes analytics simple.\n",
    "\n",
    "That’s it — small pieces, clear structure. You can scale this up later with real ETL and a database."
   ]
  }
 ],
 "metadata": {},
 "nbformat": 4,
 "nbformat_minor": 5
}
