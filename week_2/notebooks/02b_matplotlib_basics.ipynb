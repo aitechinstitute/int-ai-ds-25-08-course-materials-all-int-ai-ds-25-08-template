{
 "cells": [
  {
   "cell_type": "markdown",
   "metadata": {},
   "source": [
    "# **AI TECH INSTITUTE** · *Matplotlib from Zero to Hero*\n",
    "### Understanding Figures, Axes, and Subplots\n",
    "**Instructor:** Amir Charkhi  |  **Goal:** Demystify matplotlib completely\n",
    "\n",
    "> \"Most students struggle with matplotlib because they copy-paste without understanding. Today we fix that!\"\n"
   ]
  },
  {
   "cell_type": "markdown",
   "metadata": {},
   "source": [
    "## 🎯 The Big Picture\n",
    "\n",
    "Think of matplotlib like building a house:\n",
    "- **Figure** = The land/canvas\n",
    "- **Axes** = The rooms where you put things\n",
    "- **Plot** = The furniture in each room\n",
    "\n",
    "You can have one big room or multiple small rooms on your land!"
   ]
  },
  {
   "cell_type": "code",
   "execution_count": null,
   "metadata": {},
   "outputs": [],
   "source": [
    "import matplotlib.pyplot as plt\n",
    "import pandas as pd\n",
    "import numpy as np\n",
    "\n",
    "# We'll use our housing data from the previous notebook\n",
    "np.random.seed(42)\n",
    "print(\"Ready to visualize! 📊\")"
   ]
  },
  {
   "cell_type": "markdown",
   "metadata": {},
   "source": [
    "## Part 1: The Simplest Plot Possible"
   ]
  },
  {
   "cell_type": "code",
   "execution_count": null,
   "metadata": {},
   "outputs": [],
   "source": [
    "# METHOD 1: The \"Quick and Dirty\" Way\n",
    "# This is what most tutorials show you\n",
    "\n",
    "prices = [500000, 750000, 900000, 1200000, 650000]\n",
    "cities = ['Adelaide', 'Brisbane', 'Melbourne', 'Sydney', 'Perth']\n",
    "\n",
    "plt.bar(cities, prices)\n",
    "plt.show()\n",
    "\n",
    "print(\"✅ It works! But we have no control...\")"
   ]
  },
  {
   "cell_type": "code",
   "execution_count": null,
   "metadata": {},
   "outputs": [],
   "source": [
    "# METHOD 2: The \"Professional\" Way - Understanding What's Happening\n",
    "\n",
    "# Step 1: Create the canvas (figure)\n",
    "fig = plt.figure(figsize=(10, 6))  # Width=10 inches, Height=6 inches\n",
    "\n",
    "# Step 2: Add a room (axes) to the canvas\n",
    "ax = fig.add_subplot(111)  # 1 row, 1 column, plot #1\n",
    "\n",
    "# Step 3: Put furniture (plot) in the room\n",
    "ax.bar(cities, prices)\n",
    "\n",
    "# Step 4: Decorate the room\n",
    "ax.set_title('House Prices by City')\n",
    "ax.set_xlabel('City')\n",
    "ax.set_ylabel('Price ($)')\n",
    "\n",
    "plt.show()\n",
    "\n",
    "print(\"✅ Now we have FULL control!\")"
   ]
  },
  {
   "cell_type": "markdown",
   "metadata": {},
   "source": [
    "## Part 2: Understanding Subplots - Multiple Rooms!\n",
    "This is where students get confused. Let's make it crystal clear."
   ]
  },
  {
   "cell_type": "code",
   "execution_count": null,
   "metadata": {},
   "outputs": [],
   "source": [
    "# Create 4 different views of the same data\n",
    "# Think of it as 4 rooms in a 2x2 house layout\n",
    "\n",
    "fig, axes = plt.subplots(2, 2, figsize=(12, 10))  # 2 rows, 2 columns\n",
    "\n",
    "# Now 'axes' is a 2x2 array of rooms!\n",
    "# Access them like: axes[row, column]\n",
    "\n",
    "# Room 1 (top-left): Bar chart\n",
    "axes[0, 0].bar(cities, prices, color='skyblue')\n",
    "axes[0, 0].set_title('Bar Chart')\n",
    "axes[0, 0].set_ylabel('Price ($)')\n",
    "\n",
    "# Room 2 (top-right): Horizontal bar\n",
    "axes[0, 1].barh(cities, prices, color='lightcoral')\n",
    "axes[0, 1].set_title('Horizontal Bar Chart')\n",
    "axes[0, 1].set_xlabel('Price ($)')\n",
    "\n",
    "# Room 3 (bottom-left): Line plot\n",
    "axes[1, 0].plot(cities, prices, marker='o', color='green', linewidth=2)\n",
    "axes[1, 0].set_title('Line Chart')\n",
    "axes[1, 0].set_ylabel('Price ($)')\n",
    "\n",
    "# Room 4 (bottom-right): Scatter plot\n",
    "axes[1, 1].scatter(cities, prices, s=200, color='purple', alpha=0.6)\n",
    "axes[1, 1].set_title('Scatter Plot')\n",
    "axes[1, 1].set_ylabel('Price ($)')\n",
    "\n",
    "# Adjust spacing between rooms\n",
    "plt.tight_layout()\n",
    "plt.show()\n",
    "\n",
    "print(\"✅ Four different visualizations of the same data!\")"
   ]
  },
  {
   "cell_type": "code",
   "execution_count": null,
   "metadata": {},
   "outputs": [],
   "source": [
    "# PRO TIP: When you have just one row or column, axes is 1D!\n",
    "\n",
    "fig, axes = plt.subplots(1, 3, figsize=(15, 4))  # 1 row, 3 columns\n",
    "\n",
    "# Now axes is just a 1D array: axes[0], axes[1], axes[2]\n",
    "axes[0].bar(cities, prices)\n",
    "axes[0].set_title('First Plot')\n",
    "\n",
    "axes[1].plot(cities, prices, 'ro-')\n",
    "axes[1].set_title('Second Plot')\n",
    "\n",
    "axes[2].scatter(range(len(cities)), prices)\n",
    "axes[2].set_title('Third Plot')\n",
    "\n",
    "plt.tight_layout()\n",
    "plt.show()"
   ]
  },
  {
   "cell_type": "markdown",
   "metadata": {},
   "source": [
    "## Part 3: Using Our Housing Dataset"
   ]
  },
  {
   "cell_type": "code",
   "execution_count": null,
   "metadata": {},
   "outputs": [],
   "source": [
    "# Let's create a smaller version of our housing dataset for visualization\n",
    "np.random.seed(42)\n",
    "n_properties = 1000\n",
    "\n",
    "cities = ['Sydney', 'Melbourne', 'Brisbane', 'Perth', 'Adelaide', 'Hobart', 'Darwin', 'Canberra']\n",
    "city_weights = [0.25, 0.22, 0.15, 0.12, 0.10, 0.06, 0.04, 0.06]\n",
    "\n",
    "housing_data = pd.DataFrame({\n",
    "    'city': np.random.choice(cities, n_properties, p=city_weights),\n",
    "    'property_type': np.random.choice(['House', 'Apartment', 'Townhouse', 'Villa'], \n",
    "                                     n_properties, p=[0.45, 0.35, 0.15, 0.05]),\n",
    "    'bedrooms': np.random.choice([1, 2, 3, 4, 5], n_properties, p=[0.1, 0.25, 0.35, 0.25, 0.05]),\n",
    "    'distance_cbd': np.random.exponential(15, n_properties),\n",
    "})\n",
    "\n",
    "# Add realistic prices\n",
    "base_price = {\n",
    "    'Sydney': 1200000, 'Melbourne': 950000, 'Brisbane': 750000, 'Perth': 650000,\n",
    "    'Adelaide': 600000, 'Hobart': 550000, 'Darwin': 600000, 'Canberra': 850000\n",
    "}\n",
    "\n",
    "housing_data['price'] = housing_data.apply(lambda row: \n",
    "    base_price[row['city']] * \n",
    "    (1 + 0.15 * row['bedrooms']) * \n",
    "    (1 - 0.01 * row['distance_cbd']) *\n",
    "    (1 + np.random.normal(0, 0.15)), axis=1\n",
    ")\n",
    "\n",
    "print(\"Dataset created!\")\n",
    "print(housing_data.head())"
   ]
  },
  {
   "cell_type": "markdown",
   "metadata": {},
   "source": [
    "## Part 4: Pre-attentive Attributes Demonstration\n",
    "Now let's recreate the visualization from your example, but explained!"
   ]
  },
  {
   "cell_type": "code",
   "execution_count": null,
   "metadata": {},
   "outputs": [],
   "source": [
    "# Prepare data: Average price by city\n",
    "city_avg_prices = housing_data.groupby('city')['price'].mean().sort_values()\n",
    "\n",
    "# Create our 2x3 grid of visualizations\n",
    "fig, axes = plt.subplots(2, 3, figsize=(15, 10))\n",
    "\n",
    "# 1. POSITION (Bar Chart) - Most Accurate\n",
    "axes[0, 0].bar(range(len(city_avg_prices)), city_avg_prices.values)\n",
    "axes[0, 0].set_xticks(range(len(city_avg_prices)))\n",
    "axes[0, 0].set_xticklabels(city_avg_prices.index, rotation=45)\n",
    "axes[0, 0].set_title('Position (Bar Chart) - Most Accurate')\n",
    "axes[0, 0].set_ylabel('Average Price ($)')\n",
    "\n",
    "# 2. LENGTH (Horizontal Bar)\n",
    "axes[0, 1].barh(range(len(city_avg_prices)), city_avg_prices.values)\n",
    "axes[0, 1].set_yticks(range(len(city_avg_prices)))\n",
    "axes[0, 1].set_yticklabels(city_avg_prices.index)\n",
    "axes[0, 1].set_title('Length (Horizontal Bar)')\n",
    "axes[0, 1].set_xlabel('Average Price ($)')\n",
    "\n",
    "# 3. AREA (Bubble) - Less Accurate\n",
    "# Make bubble sizes proportional to price\n",
    "sizes = (city_avg_prices.values / city_avg_prices.values.min() * 100) ** 2\n",
    "axes[0, 2].scatter(range(len(city_avg_prices)), [1]*len(city_avg_prices), \n",
    "                   s=sizes, alpha=0.6)\n",
    "axes[0, 2].set_xticks(range(len(city_avg_prices)))\n",
    "axes[0, 2].set_xticklabels(city_avg_prices.index, rotation=45)\n",
    "axes[0, 2].set_title('Area (Bubble) - Less Accurate')\n",
    "axes[0, 2].set_ylim(0, 2)\n",
    "\n",
    "# 4. COLOR (Sequential) - Good for Categories\n",
    "colors = plt.cm.viridis(np.linspace(0, 1, len(city_avg_prices)))\n",
    "axes[1, 0].bar(range(len(city_avg_prices)), city_avg_prices.values, color=colors)\n",
    "axes[1, 0].set_xticks(range(len(city_avg_prices)))\n",
    "axes[1, 0].set_xticklabels(city_avg_prices.index, rotation=45)\n",
    "axes[1, 0].set_title('Color (Sequential) - Good for Categories')\n",
    "\n",
    "# 5. SHAPE - Limited Distinct Values\n",
    "markers = ['o', 's', '^', 'D', 'v', '<', '>', 'p']\n",
    "for i, (city, value) in enumerate(city_avg_prices.items()):\n",
    "    axes[1, 1].scatter(i, value, s=200, marker=markers[i], label=city)\n",
    "axes[1, 1].set_title('Shape - Limited Distinct Values')\n",
    "axes[1, 1].legend(bbox_to_anchor=(1.05, 1), loc='upper left')\n",
    "\n",
    "# 6. COMBINATION - Most Effective\n",
    "axes[1, 2].bar(range(len(city_avg_prices)), city_avg_prices.values, \n",
    "               color=colors, edgecolor='black', linewidth=2)\n",
    "axes[1, 2].set_xticks(range(len(city_avg_prices)))\n",
    "axes[1, 2].set_xticklabels(city_avg_prices.index, rotation=45)\n",
    "axes[1, 2].set_title('Combined Encodings - Most Effective')\n",
    "\n",
    "plt.tight_layout()\n",
    "plt.show()\n",
    "\n",
    "print(\"Key Insight: Position and length are most accurate for quantitative comparisons.\")\n",
    "print(\"Color works well for categories, area/volume can be misleading.\")"
   ]
  },
  {
   "cell_type": "markdown",
   "metadata": {},
   "source": [
    "## Part 5: Common Customizations You'll Actually Use"
   ]
  },
  {
   "cell_type": "code",
   "execution_count": null,
   "metadata": {},
   "outputs": [],
   "source": [
    "# A professional-looking plot with all the customizations\n",
    "\n",
    "fig, ax = plt.subplots(figsize=(12, 6))\n",
    "\n",
    "# Plot the data\n",
    "bars = ax.bar(city_avg_prices.index, city_avg_prices.values, \n",
    "               color='steelblue', edgecolor='navy', linewidth=1.5)\n",
    "\n",
    "# Customize the plot\n",
    "ax.set_title('Average House Prices Across Australian Cities', \n",
    "             fontsize=16, fontweight='bold', pad=20)\n",
    "ax.set_xlabel('City', fontsize=12)\n",
    "ax.set_ylabel('Average Price ($)', fontsize=12)\n",
    "\n",
    "# Format y-axis as currency\n",
    "ax.yaxis.set_major_formatter(plt.FuncFormatter(lambda x, p: f'${x/1e6:.1f}M'))\n",
    "\n",
    "# Add value labels on top of bars\n",
    "for bar in bars:\n",
    "    height = bar.get_height()\n",
    "    ax.text(bar.get_x() + bar.get_width()/2., height,\n",
    "            f'${height/1e6:.1f}M',\n",
    "            ha='center', va='bottom', fontsize=10)\n",
    "\n",
    "# Add a grid for easier reading\n",
    "ax.grid(True, axis='y', alpha=0.3, linestyle='--')\n",
    "ax.set_axisbelow(True)  # Grid behind bars\n",
    "\n",
    "# Rotate x-labels if needed\n",
    "plt.xticks(rotation=45, ha='right')\n",
    "\n",
    "# Remove top and right spines for cleaner look\n",
    "ax.spines['top'].set_visible(False)\n",
    "ax.spines['right'].set_visible(False)\n",
    "\n",
    "plt.tight_layout()\n",
    "plt.show()\n",
    "\n",
    "print(\"✅ This is publication-ready!\")"
   ]
  },
  {
   "cell_type": "markdown",
   "metadata": {},
   "source": [
    "## Part 6: Interactive Practice - Fix Common Mistakes"
   ]
  },
  {
   "cell_type": "code",
   "execution_count": null,
   "metadata": {},
   "outputs": [],
   "source": [
    "# COMMON MISTAKE 1: Forgetting to set figure size\n",
    "# This creates a tiny, unreadable plot\n",
    "\n",
    "# Bad:\n",
    "plt.figure()  # No size specified!\n",
    "plt.plot([1, 2, 3, 4], [1, 4, 2, 3])\n",
    "plt.title('Too Small!')\n",
    "plt.show()\n",
    "\n",
    "# Good:\n",
    "plt.figure(figsize=(10, 6))  # Always specify size!\n",
    "plt.plot([1, 2, 3, 4], [1, 4, 2, 3])\n",
    "plt.title('Perfect Size!')\n",
    "plt.show()"
   ]
  },
  {
   "cell_type": "code",
   "execution_count": null,
   "metadata": {},
   "outputs": [],
   "source": [
    "# COMMON MISTAKE 2: Not using tight_layout() with subplots\n",
    "\n",
    "# Create comparison\n",
    "fig, (ax1, ax2) = plt.subplots(1, 2, figsize=(12, 4))\n",
    "\n",
    "# Without tight_layout - labels overlap!\n",
    "ax1.bar(['Sydney', 'Melbourne', 'Brisbane'], [1.2, 0.95, 0.75])\n",
    "ax1.set_title('WITHOUT tight_layout()')\n",
    "ax1.set_ylabel('Price (millions)')\n",
    "ax1.set_xlabel('City')\n",
    "\n",
    "ax2.bar(['Sydney', 'Melbourne', 'Brisbane'], [1.2, 0.95, 0.75])\n",
    "ax2.set_title('WITH tight_layout()')\n",
    "ax2.set_ylabel('Price (millions)')\n",
    "ax2.set_xlabel('City')\n",
    "\n",
    "# This fixes overlapping!\n",
    "plt.tight_layout()\n",
    "plt.show()"
   ]
  },
  {
   "cell_type": "markdown",
   "metadata": {},
   "source": [
    "## 🎯 Exercise: Create Your Own Dashboard\n",
    "Create a 2x2 dashboard showing:\n",
    "1. Average price by property type (bar chart)\n",
    "2. Price distribution (histogram)\n",
    "3. Price vs Distance from CBD (scatter)\n",
    "4. Number of properties by bedroom count (pie chart)"
   ]
  },
  {
   "cell_type": "code",
   "execution_count": null,
   "metadata": {},
   "outputs": [],
   "source": [
    "# YOUR SOLUTION HERE\n",
    "# Start with: fig, axes = plt.subplots(2, 2, figsize=(12, 10))\n",
    "\n",
    "# Hint structure:\n",
    "# axes[0, 0] - property type bar chart\n",
    "# axes[0, 1] - price histogram\n",
    "# axes[1, 0] - scatter plot\n",
    "# axes[1, 1] - pie chart"
   ]
  },
  {
   "cell_type": "markdown",
   "metadata": {},
   "source": [
    "## 📝 Key Takeaways\n",
    "\n",
    "### The Hierarchy:\n",
    "1. **Figure** = The whole canvas/window\n",
    "2. **Axes** = Individual plot areas (the \"rooms\")\n",
    "3. **Artist** = Everything you see (lines, text, patches)\n",
    "\n",
    "### Remember:\n",
    "- Always use `figsize` for readable plots\n",
    "- Use `tight_layout()` to prevent overlapping\n",
    "- `axes[row, col]` for 2D grid, `axes[index]` for 1D\n",
    "- Position and length are most accurate for comparisons\n",
    "- Label everything (title, axes, legend)\n",
    "\n",
    "### Common Patterns:\n",
    "```python\n",
    "# Single plot\n",
    "fig, ax = plt.subplots(figsize=(10, 6))\n",
    "\n",
    "# Multiple plots\n",
    "fig, axes = plt.subplots(nrows, ncols, figsize=(width, height))\n",
    "\n",
    "# Always end with\n",
    "plt.tight_layout()\n",
    "plt.show()\n",
    "```\n",
    "\n",
    "### Next: Advanced visualizations and Seaborn!"
   ]
  }
 ],
 "metadata": {
  "kernelspec": {
   "display_name": "Python 3",
   "language": "python",
   "name": "python3"
  },
  "language_info": {
   "codemirror_mode": {
    "name": "ipython",
    "version": 3
   },
   "file_extension": ".py",
   "mimetype": "text/x-python",
   "name": "python",
   "nbconvert_exporter": "python",
   "pygments_lexer": "ipython3",
   "version": "3.8.0"
  }
 },
 "nbformat": 4,
 "nbformat_minor": 4
}