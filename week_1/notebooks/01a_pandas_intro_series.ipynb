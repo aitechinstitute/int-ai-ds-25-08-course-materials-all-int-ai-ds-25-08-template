{
 "cells": [
  {
   "cell_type": "markdown",
   "id": "6e8287c6",
   "metadata": {},
   "source": [
    "# **AI TECH INSTITUTE** · *Intermediate AI & Data Science*\n",
    "### Week 01 · Notebook 01 — Introduction to Pandas & Series\n",
    "**Instructor:** Amir Charkhi  |  **Goal:** Master the transition from Python basics to Pandas data structures.\n",
    "\n",
    "> Format: short theory → quick practice → build understanding → mini-challenges.\n"
   ]
  },
  {
   "cell_type": "markdown",
   "id": "4a35e8bb",
   "metadata": {},
   "source": [
    "---\n",
    "## Learning Objectives\n",
    "- Understand why we need Pandas for data analysis\n",
    "- Master Series creation and manipulation\n",
    "- Connect Week 0 Python concepts to Pandas operations\n",
    "- Prepare for DataFrames"
   ]
  },
  {
   "cell_type": "markdown",
   "id": "ade0238f",
   "metadata": {},
   "source": [
    "## 1. Why Pandas? From Lists to Series\n",
    "Remember our Week 0 lists? Let's see why we need something more powerful."
   ]
  },
  {
   "cell_type": "code",
   "execution_count": 1,
   "id": "da6e4326",
   "metadata": {},
   "outputs": [
    {
     "name": "stdout",
     "output_type": "stream",
     "text": [
      "Average (Python list): 22.90°C\n",
      "Temps > 23: [23.1, 24.2]\n"
     ]
    }
   ],
   "source": [
    "# Week 0 way - calculating average temperature\n",
    "temps = [22.5, 23.1, 21.8, 24.2, 22.9]\n",
    "avg_temp = sum(temps) / len(temps)\n",
    "print(f\"Average (Python list): {avg_temp:.2f}°C\")\n",
    "\n",
    "# What if we want temps above 23?\n",
    "above_23 = [t for t in temps if t > 23]\n",
    "print(f\"Temps > 23: {above_23}\")"
   ]
  },
  {
   "cell_type": "code",
   "execution_count": 2,
   "id": "d0037003",
   "metadata": {},
   "outputs": [
    {
     "name": "stdout",
     "output_type": "stream",
     "text": [
      "Pandas Series:\n",
      "0    22.5\n",
      "1    23.1\n",
      "2    21.8\n",
      "3    24.2\n",
      "4    22.9\n",
      "dtype: float64\n",
      "\n",
      "Average (Pandas): 22.90°C\n",
      "\n",
      "Temps > 23:\n",
      "1    23.1\n",
      "3    24.2\n",
      "dtype: float64\n"
     ]
    }
   ],
   "source": [
    "# Week 1 way - with Pandas!\n",
    "import pandas as pd\n",
    "import numpy as np\n",
    "\n",
    "# Create a Series (like a smart list with superpowers)\n",
    "temps_series = pd.Series([22.5, 23.1, 21.8, 24.2, 22.9])\n",
    "print(\"Pandas Series:\")\n",
    "print(temps_series)\n",
    "print(f\"\\nAverage (Pandas): {temps_series.mean():.2f}°C\")\n",
    "print(f\"\\nTemps > 23:\")\n",
    "print(temps_series[temps_series > 23])"
   ]
  },
  {
   "cell_type": "markdown",
   "id": "5b4f40a1",
   "metadata": {},
   "source": [
    "**Exercise 1 — Feel the Difference (easy)**  \n",
    "Create a Series of 5 student scores and find: mean, max, min, and scores above 80.\n"
   ]
  },
  {
   "cell_type": "code",
   "execution_count": 6,
   "id": "741c1c71",
   "metadata": {},
   "outputs": [
    {
     "name": "stdout",
     "output_type": "stream",
     "text": [
      "\n",
      "Average: 73.29\n",
      "\n",
      "Max: 98\n",
      "\n",
      "Min: 35\n",
      "\n",
      "Above > 80:\n",
      "3    85\n",
      "4    95\n",
      "5    98\n",
      "dtype: int64\n"
     ]
    }
   ],
   "source": [
    "# Scores\n",
    "scores = pd.Series ([60, 70, 35, 85, 95, 98, 70])\n",
    "print(f\"\\nAverage: {scores.mean():.2f}\")\n",
    "print(f\"\\nMax: {scores.max()}\")\n",
    "print(f\"\\nMin: {scores.min()}\")\n",
    "print(f\"\\nAbove > 80:\")\n",
    "print(scores[scores > 80])"
   ]
  },
  {
   "cell_type": "markdown",
   "id": "5265e60a",
   "metadata": {},
   "source": [
    "<details>\n",
    "<summary><b>Solution</b></summary>\n",
    "\n",
    "```python\n",
    "scores = pd.Series([75, 82, 91, 68, 87])\n",
    "print(f\"Mean: {scores.mean():.1f}\")\n",
    "print(f\"Max: {scores.max()}\")\n",
    "print(f\"Min: {scores.min()}\")\n",
    "print(\"\\nScores > 80:\")\n",
    "print(scores[scores > 80])\n",
    "```\n",
    "</details>"
   ]
  },
  {
   "cell_type": "markdown",
   "id": "582c78e3",
   "metadata": {},
   "source": [
    "## 2. Series with Index Labels\n",
    "Unlike lists, Series can have meaningful labels!"
   ]
  },
  {
   "cell_type": "code",
   "execution_count": null,
   "id": "dd91af14",
   "metadata": {},
   "outputs": [],
   "source": [
    "# Create a Series with custom index\n",
    "cities = ['Perth', 'Sydney', 'Melbourne', 'Brisbane', 'Adelaide']\n",
    "populations = [2.1, 5.3, 5.0, 2.6, 1.4]  # in millions\n",
    "\n",
    "pop_series = pd.Series(populations, index=cities, name='Population (M)')\n",
    "print(pop_series)\n",
    "print(f\"\\nPerth population: {pop_series['Perth']}M\")\n",
    "print(f\"\\nCities over 3M:\")\n",
    "print(pop_series[pop_series > 3])"
   ]
  },
  {
   "cell_type": "markdown",
   "id": "b93cc6d3",
   "metadata": {},
   "source": [
    "**Exercise 2 — Product Inventory (medium)**  \n",
    "Create a Series for product inventory: iPhone:45, iPad:32, MacBook:18, AirPods:67.\n",
    "Find products with stock < 40.\n"
   ]
  },
  {
   "cell_type": "code",
   "execution_count": 9,
   "id": "127850d0",
   "metadata": {},
   "outputs": [
    {
     "name": "stdout",
     "output_type": "stream",
     "text": [
      "\n",
      "Stock below 40 units:\n",
      "iPad       32\n",
      "MacBook    18\n",
      "dtype: int64\n"
     ]
    }
   ],
   "source": [
    "# Create a Series with custom index\n",
    "product = pd.Series (\n",
    "    {'iPhone':45, 'iPad':32, 'MacBook':18, 'AirPods':67},\n",
    ")\n",
    "print(\"\\nStock below 40 units:\")\n",
    "print(product[product < 40])"
   ]
  },
  {
   "cell_type": "markdown",
   "id": "22f25302",
   "metadata": {},
   "source": [
    "<details>\n",
    "<summary><b>Solution</b></summary>\n",
    "\n",
    "```python\n",
    "inventory = pd.Series(\n",
    "    {'iPhone': 45, 'iPad': 32, 'MacBook': 18, 'AirPods': 67},\n",
    "    name='Stock Count'\n",
    ")\n",
    "print(\"Current Inventory:\")\n",
    "print(inventory)\n",
    "print(\"\\nLow stock items (< 40):\")\n",
    "print(inventory[inventory < 40])\n",
    "```\n",
    "</details>"
   ]
  },
  {
   "cell_type": "markdown",
   "id": "86ac1848",
   "metadata": {},
   "source": [
    "## 3. Series Operations & Methods"
   ]
  },
  {
   "cell_type": "code",
   "execution_count": 10,
   "id": "ddf3b8ab",
   "metadata": {},
   "outputs": [
    {
     "name": "stdout",
     "output_type": "stream",
     "text": [
      "Original prices:\n",
      "Basic        99.99\n",
      "Standard    149.99\n",
      "Premium     199.99\n",
      "Student      79.99\n",
      "dtype: float64\n",
      "\n",
      "After 20% discount:\n",
      "Basic        79.99\n",
      "Standard    119.99\n",
      "Premium     159.99\n",
      "Student      63.99\n",
      "dtype: float64\n",
      "\n",
      "Price stats:\n",
      "Mean: $132.49\n",
      "Median: $124.99\n",
      "Std Dev: $53.77\n"
     ]
    }
   ],
   "source": [
    "# Mathematical operations work element-wise\n",
    "prices = pd.Series([99.99, 149.99, 199.99, 79.99], \n",
    "                   index=['Basic', 'Standard', 'Premium', 'Student'])\n",
    "\n",
    "# Apply 20% discount\n",
    "discounted = prices * 0.8\n",
    "print(\"Original prices:\")\n",
    "print(prices)\n",
    "print(\"\\nAfter 20% discount:\")\n",
    "print(discounted.round(2))\n",
    "\n",
    "# Useful methods\n",
    "print(f\"\\nPrice stats:\")\n",
    "print(f\"Mean: ${prices.mean():.2f}\")\n",
    "print(f\"Median: ${prices.median():.2f}\")\n",
    "print(f\"Std Dev: ${prices.std():.2f}\")"
   ]
  },
  {
   "cell_type": "markdown",
   "id": "f8c85c5e",
   "metadata": {},
   "source": [
    "## 4. Handling Missing Data"
   ]
  },
  {
   "cell_type": "code",
   "execution_count": 11,
   "id": "afdbd6b9",
   "metadata": {},
   "outputs": [
    {
     "name": "stdout",
     "output_type": "stream",
     "text": [
      "Sales with missing data:\n",
      "Mon    1200.0\n",
      "Tue       NaN\n",
      "Wed    1450.0\n",
      "Thu     980.0\n",
      "Fri       NaN\n",
      "Sat    1680.0\n",
      "dtype: float64\n",
      "\n",
      "Count of missing: 2\n",
      "Mean (ignoring NaN): $1327.50\n",
      "\n",
      "After filling with mean:\n",
      "Mon    1200.0\n",
      "Tue    1327.5\n",
      "Wed    1450.0\n",
      "Thu     980.0\n",
      "Fri    1327.5\n",
      "Sat    1680.0\n",
      "dtype: float64\n"
     ]
    }
   ],
   "source": [
    "# Real data often has missing values\n",
    "sales = pd.Series([1200, None, 1450, 980, None, 1680],\n",
    "                  index=['Mon', 'Tue', 'Wed', 'Thu', 'Fri', 'Sat'])\n",
    "print(\"Sales with missing data:\")\n",
    "print(sales)\n",
    "print(f\"\\nCount of missing: {sales.isna().sum()}\")\n",
    "print(f\"Mean (ignoring NaN): ${sales.mean():.2f}\")\n",
    "\n",
    "# Fill missing values\n",
    "sales_filled = sales.fillna(sales.mean())\n",
    "print(\"\\nAfter filling with mean:\")\n",
    "print(sales_filled.round(2))"
   ]
  },
  {
   "cell_type": "markdown",
   "id": "17f39466",
   "metadata": {},
   "source": [
    "**Exercise 3 — Temperature Analysis (medium)**  \n",
    "Given a week of temperatures with some missing values, fill them with the median and find days above average.\n"
   ]
  },
  {
   "cell_type": "code",
   "execution_count": 15,
   "id": "64f3255a",
   "metadata": {},
   "outputs": [
    {
     "name": "stdout",
     "output_type": "stream",
     "text": [
      "\n",
      "Temps Filled:\n",
      "Mon    22.5\n",
      "Tue    23.8\n",
      "Wed    24.1\n",
      "Thu    23.8\n",
      "Fri    23.8\n",
      "Sat    25.2\n",
      "Sun    21.9\n",
      "dtype: float64\n",
      "\n",
      "Days Above Average:\n",
      "\n",
      "Average: 22.9°C\n",
      "\n",
      "Days above average:\n",
      "Tue    23.8\n",
      "Wed    24.1\n",
      "Thu    23.8\n",
      "Fri    23.8\n",
      "Sat    25.2\n",
      "dtype: float64\n"
     ]
    }
   ],
   "source": [
    "temps = pd.Series([22.5, None, 24.1, 23.8, None, 25.2, 21.9],\n",
    "                   index=['Mon', 'Tue', 'Wed', 'Thu', 'Fri', 'Sat', 'Sun'])\n",
    "\n",
    "# Fill with median\n",
    "temps_filled = temps.fillna(temps.median())\n",
    "print(f\"\\nTemps Filled:\")\n",
    "print(temps_filled)\n",
    "\n",
    "# Find above average days\n",
    "temps_average = temps.mean()\n",
    "print(f\"\\nDays Above Average:\")\n",
    "print(f\"\\nAverage: {avg_temp:.1f}°C\")\n",
    "print(\"\\nDays above average:\")\n",
    "print(temps_filled[temps_filled > temps_average])"
   ]
  },
  {
   "cell_type": "markdown",
   "id": "a54870cb",
   "metadata": {},
   "source": [
    "<details>\n",
    "<summary><b>Solution</b></summary>\n",
    "\n",
    "```python\n",
    "temps = pd.Series([22.5, None, 24.1, 23.8, None, 25.2, 21.9],\n",
    "                  index=['Mon', 'Tue', 'Wed', 'Thu', 'Fri', 'Sat', 'Sun'])\n",
    "print(\"Original temperatures:\")\n",
    "print(temps)\n",
    "\n",
    "# Fill with median\n",
    "temps_filled = temps.fillna(temps.median())\n",
    "print(\"\\nFilled temperatures:\")\n",
    "print(temps_filled)\n",
    "\n",
    "# Find above average days\n",
    "avg_temp = temps_filled.mean()\n",
    "print(f\"\\nAverage: {avg_temp:.1f}°C\")\n",
    "print(\"\\nDays above average:\")\n",
    "print(temps_filled[temps_filled > avg_temp])\n",
    "```\n",
    "</details>"
   ]
  },
  {
   "cell_type": "markdown",
   "id": "b93813ac",
   "metadata": {},
   "source": [
    "## 5. Series Alignment & Combining"
   ]
  },
  {
   "cell_type": "code",
   "execution_count": 16,
   "id": "9f70e311",
   "metadata": {},
   "outputs": [
    {
     "name": "stdout",
     "output_type": "stream",
     "text": [
      "Q1 Sales:\n",
      "Product_A    100\n",
      "Product_B    150\n",
      "Product_C    200\n",
      "dtype: int64\n",
      "\n",
      "Q2 Sales:\n",
      "Product_B    180\n",
      "Product_C    220\n",
      "Product_D     90\n",
      "dtype: int64\n",
      "\n",
      "Total Sales (Q1 + Q2):\n",
      "Product_A    100.0\n",
      "Product_B    330.0\n",
      "Product_C    420.0\n",
      "Product_D     90.0\n",
      "dtype: float64\n"
     ]
    }
   ],
   "source": [
    "# Pandas aligns by index automatically!\n",
    "q1_sales = pd.Series({'Product_A': 100, 'Product_B': 150, 'Product_C': 200})\n",
    "q2_sales = pd.Series({'Product_B': 180, 'Product_C': 220, 'Product_D': 90})\n",
    "\n",
    "print(\"Q1 Sales:\")\n",
    "print(q1_sales)\n",
    "print(\"\\nQ2 Sales:\")\n",
    "print(q2_sales)\n",
    "\n",
    "# Addition aligns by index\n",
    "total_sales = q1_sales.add(q2_sales, fill_value=0)\n",
    "print(\"\\nTotal Sales (Q1 + Q2):\")\n",
    "print(total_sales)"
   ]
  },
  {
   "cell_type": "markdown",
   "id": "de98963a",
   "metadata": {},
   "source": [
    "**Exercise 4 — Revenue Calculator (hard)**  \n",
    "Given prices and quantities sold, calculate total revenue per product and overall total.\n"
   ]
  },
  {
   "cell_type": "code",
   "execution_count": 20,
   "id": "9b7b1b10",
   "metadata": {},
   "outputs": [
    {
     "name": "stdout",
     "output_type": "stream",
     "text": [
      "\n",
      "Total Revenue per Product\n",
      "Keyboard    2400.0\n",
      "Laptop      6000.0\n",
      "Mouse       1125.0\n",
      "dtype: float64\n",
      "\n",
      "Overall Total:\n",
      "9525.0\n"
     ]
    }
   ],
   "source": [
    "# Variables\n",
    "prices = pd.Series({'Laptop': 1200, 'Mouse': 25, 'Keyboard': 80, 'Monitor': 350})\n",
    "quantities = pd.Series({'Laptop': 5, 'Mouse': 45, 'Keyboard': 30, 'Webcam': 15})\n",
    "\n",
    "#Total Revenue per Product\n",
    "total_revenue = prices * quantities\n",
    "print(f\"\\nTotal Revenue per Product\")\n",
    "print(total_revenue.dropna())\n",
    "\n",
    "#Overall Total\n",
    "overall_revenue = total_revenue.sum()\n",
    "print(f\"\\nOverall Total:\")\n",
    "print(overall_revenue)"
   ]
  },
  {
   "cell_type": "markdown",
   "id": "4cecfa82",
   "metadata": {},
   "source": [
    "<details>\n",
    "<summary><b>Solution</b></summary>\n",
    "\n",
    "```python\n",
    "prices = pd.Series({'Laptop': 1200, 'Mouse': 25, 'Keyboard': 80, 'Monitor': 350})\n",
    "quantities = pd.Series({'Laptop': 5, 'Mouse': 45, 'Keyboard': 30, 'Webcam': 15})\n",
    "\n",
    "# Calculate revenue (handles mismatched indices)\n",
    "revenue = prices * quantities\n",
    "print(\"Revenue per product:\")\n",
    "print(revenue.dropna())  # Drop products we can't calculate\n",
    "\n",
    "print(f\"\\nTotal revenue: ${revenue.sum():.2f}\")\n",
    "print(f\"Best seller: {revenue.idxmax()} (${revenue.max():.2f})\")\n",
    "```\n",
    "</details>"
   ]
  },
  {
   "cell_type": "markdown",
   "id": "8f88bba8",
   "metadata": {},
   "source": [
    "## 6. Mini-Challenges\n",
    "- **M1 (easy):** Create a Series of 10 random numbers and find values > mean\n",
    "- **M2 (medium):** Create a grade Series, convert letter grades to numeric (A=4, B=3, etc.)\n",
    "- **M3 (hard):** Combine two Series with different indices and calculate percentage change"
   ]
  },
  {
   "cell_type": "code",
   "execution_count": 54,
   "id": "0f834bfd",
   "metadata": {},
   "outputs": [
    {
     "name": "stdout",
     "output_type": "stream",
     "text": [
      "3   -0.089641\n",
      "4    2.172555\n",
      "8    1.076304\n",
      "9    1.864620\n",
      "dtype: float64\n",
      "\n",
      "Numeric Grades: \n",
      "0    4\n",
      "1    2\n",
      "2    0\n",
      "3    3\n",
      "4    1\n",
      "dtype: int64\n",
      "GPA: 2.00\n",
      "\n",
      "Combined: \n",
      "A     70\n",
      "B    115\n",
      "C     80\n",
      "D     90\n",
      "dtype: int64\n",
      "\n",
      "Percentage Change: \n",
      "A     33.33\n",
      "B    128.57\n",
      "C    -22.22\n",
      "D    -50.00\n",
      "dtype: float64\n"
     ]
    }
   ],
   "source": [
    "# M1\n",
    "random_series = pd.Series(np.random.randn(10))\n",
    "print(random_series[random_series > random_series.mean()])\n",
    "\n",
    "# M2\n",
    "grade = pd.Series (['A', 'C', 'F', 'B', 'D'])\n",
    "grade_map = {'A': 4, 'B': 3, 'C': 2, 'D': 1, 'F': 0}\n",
    "numeric_grades = grade.map(grade_map)\n",
    "print(f\"\\nNumeric Grades: \\n{numeric_grades}\")\n",
    "print(f\"GPA: {numeric_grades.mean():.2f}\")\n",
    "\n",
    "# M3\n",
    "mon = pd.Series ({'A':30, 'B':35, 'C':45, 'D':60})\n",
    "tue = pd.Series ({'A':40, 'B':80, 'C':35, 'D':30})\n",
    "combined = mon.add (tue)\n",
    "print(f\"\\nCombined: \\n{combined}\")\n",
    "percentage = ((tue - mon) / mon * 100).round(2)\n",
    "print(f\"\\nPercentage Change: \\n{percentage.dropna()}\")"
   ]
  },
  {
   "cell_type": "markdown",
   "id": "b1a2e9d0",
   "metadata": {},
   "source": [
    "<details>\n",
    "<summary><b>Solutions</b></summary>\n",
    "\n",
    "```python\n",
    "# M1\n",
    "random_series = pd.Series(np.random.randn(10))\n",
    "print(random_series[random_series > random_series.mean()])\n",
    "\n",
    "# M2\n",
    "grades = pd.Series(['A', 'B', 'A', 'C', 'B', 'D'])\n",
    "grade_map = {'A': 4, 'B': 3, 'C': 2, 'D': 1, 'F': 0}\n",
    "numeric_grades = grades.map(grade_map)\n",
    "print(f\"GPA: {numeric_grades.mean():.2f}\")\n",
    "\n",
    "# M3\n",
    "jan = pd.Series({'A': 100, 'B': 200, 'C': 150})\n",
    "feb = pd.Series({'B': 220, 'C': 140, 'D': 80})\n",
    "pct_change = ((feb - jan) / jan * 100).round(2)\n",
    "print(pct_change.dropna())\n",
    "```\n",
    "</details>"
   ]
  },
  {
   "cell_type": "markdown",
   "id": "aba28e65",
   "metadata": {},
   "source": [
    "## Wrap-Up & Next Steps\n",
    "✅ You've mastered Series - the building block of DataFrames!  \n",
    "✅ You can create, filter, and manipulate data efficiently  \n",
    "✅ You understand index alignment and missing data handling  \n",
    "\n",
    "**Next:** DataFrames - think of them as multiple Series combined into a table!\n"
   ]
  }
 ],
 "metadata": {
  "kernelspec": {
   "display_name": "Python [conda env:venv]",
   "language": "python",
   "name": "conda-env-venv-py"
  },
  "language_info": {
   "codemirror_mode": {
    "name": "ipython",
    "version": 3
   },
   "file_extension": ".py",
   "mimetype": "text/x-python",
   "name": "python",
   "nbconvert_exporter": "python",
   "pygments_lexer": "ipython3",
   "version": "3.12.0"
  }
 },
 "nbformat": 4,
 "nbformat_minor": 5
}
