{
 "cells": [
  {
   "cell_type": "markdown",
   "id": "6e8287c6",
   "metadata": {},
   "source": [
    "# **AI TECH INSTITUTE** · *Intermediate AI & Data Science*\n",
    "### Week 01 · Notebook 01 — Introduction to Pandas & Series\n",
    "**Instructor:** Amir Charkhi  |  **Goal:** Master the transition from Python basics to Pandas data structures.\n",
    "\n",
    "> Format: short theory → quick practice → build understanding → mini-challenges.\n"
   ]
  },
  {
   "cell_type": "markdown",
   "id": "4a35e8bb",
   "metadata": {},
   "source": [
    "---\n",
    "## Learning Objectives\n",
    "- Understand why we need Pandas for data analysis\n",
    "- Master Series creation and manipulation\n",
    "- Connect Week 0 Python concepts to Pandas operations\n",
    "- Prepare for DataFrames"
   ]
  },
  {
   "cell_type": "markdown",
   "id": "ade0238f",
   "metadata": {},
   "source": [
    "## 1. Why Pandas? From Lists to Series\n",
    "Remember our Week 0 lists? Let's see why we need something more powerful."
   ]
  },
  {
   "cell_type": "code",
   "execution_count": 2,
   "id": "e6f18528-6248-4983-8297-30704eac6d60",
   "metadata": {},
   "outputs": [
    {
     "name": "stdout",
     "output_type": "stream",
     "text": [
      "<class 'list'>\n"
     ]
    }
   ],
   "source": [
    "temps = [22.5, 23.1, 21.8, 24.2, 22.9]\n",
    "print(type(temps))"
   ]
  },
  {
   "cell_type": "code",
   "execution_count": 3,
   "id": "d54b5b48-5638-4bfa-b323-643dcf55770f",
   "metadata": {},
   "outputs": [],
   "source": [
    "import pandas as pd"
   ]
  },
  {
   "cell_type": "code",
   "execution_count": 6,
   "id": "22fa7fcb-18b7-4ae5-8256-d055c3367280",
   "metadata": {},
   "outputs": [
    {
     "name": "stdout",
     "output_type": "stream",
     "text": [
      "<class 'pandas.core.series.Series'>\n"
     ]
    }
   ],
   "source": [
    "temp_series = pd.Series(temps) # 1-D data structure with indexes\n",
    "print(type(temp_series))"
   ]
  },
  {
   "cell_type": "code",
   "execution_count": 7,
   "id": "da6e4326",
   "metadata": {},
   "outputs": [
    {
     "name": "stdout",
     "output_type": "stream",
     "text": [
      "Average (Python list): 22.90°C\n"
     ]
    }
   ],
   "source": [
    "# Week 0 way - calculating average temperature\n",
    "temps = [22.5, 23.1, 21.8, 24.2, 22.9]\n",
    "avg_temp = sum(temps) / len(temps)\n",
    "print(f\"Average (Python list): {avg_temp:.2f}°C\")\n",
    "\n"
   ]
  },
  {
   "cell_type": "code",
   "execution_count": 8,
   "id": "d0037003",
   "metadata": {},
   "outputs": [
    {
     "name": "stdout",
     "output_type": "stream",
     "text": [
      "Pandas Series:\n",
      "0    22.5\n",
      "1    23.1\n",
      "2    21.8\n",
      "3    24.2\n",
      "4    22.9\n",
      "dtype: float64\n",
      "\n",
      "Average (Pandas): 22.90°C\n",
      "\n",
      "Temps > 23:\n",
      "1    23.1\n",
      "3    24.2\n",
      "dtype: float64\n"
     ]
    }
   ],
   "source": [
    "# Week 1 way - with Pandas!\n",
    "import pandas as pd\n",
    "import numpy as np\n",
    "\n",
    "# Create a Series (like a smart list with superpowers)\n",
    "temps_series = pd.Series([22.5, 23.1, 21.8, 24.2, 22.9])\n",
    "print(\"Pandas Series:\")\n",
    "print(temps_series)\n",
    "print(f\"\\nAverage (Pandas): {temps_series.mean():.2f}°C\")\n",
    "print(f\"\\nTemps > 23:\")\n",
    "print(temps_series[temps_series > 23])"
   ]
  },
  {
   "cell_type": "code",
   "execution_count": 13,
   "id": "47a3732f-ef79-4cba-a818-280752df75e9",
   "metadata": {},
   "outputs": [
    {
     "data": {
      "text/plain": [
       "0    False\n",
       "1     True\n",
       "2    False\n",
       "3     True\n",
       "4    False\n",
       "dtype: bool"
      ]
     },
     "execution_count": 13,
     "metadata": {},
     "output_type": "execute_result"
    }
   ],
   "source": [
    "temp_series > 23"
   ]
  },
  {
   "cell_type": "code",
   "execution_count": 14,
   "id": "5c91899c-e15a-4825-9edf-9abc8916356a",
   "metadata": {},
   "outputs": [
    {
     "data": {
      "text/plain": [
       "[22.5, 23.1, 21.8, 24.2, 22.9]"
      ]
     },
     "execution_count": 14,
     "metadata": {},
     "output_type": "execute_result"
    }
   ],
   "source": [
    "temps"
   ]
  },
  {
   "cell_type": "code",
   "execution_count": 15,
   "id": "4a582287-74f6-4982-a587-fc1c075dfc2e",
   "metadata": {},
   "outputs": [
    {
     "name": "stdout",
     "output_type": "stream",
     "text": [
      "23.1\n",
      "24.2\n"
     ]
    }
   ],
   "source": [
    "for num in temps:\n",
    "    if num > 23:\n",
    "        print(num)\n",
    "    else:\n",
    "        continue"
   ]
  },
  {
   "cell_type": "code",
   "execution_count": 16,
   "id": "9395fbf9-8adb-4732-85df-b27932bc6b7f",
   "metadata": {},
   "outputs": [
    {
     "data": {
      "text/plain": [
       "1    23.1\n",
       "3    24.2\n",
       "dtype: float64"
      ]
     },
     "execution_count": 16,
     "metadata": {},
     "output_type": "execute_result"
    }
   ],
   "source": [
    "temp_series[temp_series>23]"
   ]
  },
  {
   "cell_type": "markdown",
   "id": "5b4f40a1",
   "metadata": {},
   "source": [
    "**Exercise 1 — Feel the Difference (easy)**  \n",
    "Create a Series of 5 student scores and find: mean, max, min, and scores above 80.\n"
   ]
  },
  {
   "cell_type": "code",
   "execution_count": null,
   "id": "741c1c71",
   "metadata": {},
   "outputs": [],
   "source": [
    "# Your turn\n"
   ]
  },
  {
   "cell_type": "markdown",
   "id": "5265e60a",
   "metadata": {},
   "source": [
    "<details>\n",
    "<summary><b>Solution</b></summary>\n",
    "\n",
    "```python\n",
    "scores = pd.Series([75, 82, 91, 68, 87])\n",
    "print(f\"Mean: {scores.mean():.1f}\")\n",
    "print(f\"Max: {scores.max()}\")\n",
    "print(f\"Min: {scores.min()}\")\n",
    "print(\"\\nScores > 80:\")\n",
    "print(scores[scores > 80])\n",
    "```\n",
    "</details>"
   ]
  },
  {
   "cell_type": "markdown",
   "id": "582c78e3",
   "metadata": {},
   "source": [
    "## 2. Series with Index Labels\n",
    "Unlike lists, Series can have meaningful labels!"
   ]
  },
  {
   "cell_type": "code",
   "execution_count": 18,
   "id": "dd91af14",
   "metadata": {},
   "outputs": [
    {
     "name": "stdout",
     "output_type": "stream",
     "text": [
      "Perth        2.1\n",
      "Sydney       5.3\n",
      "Melbourne    5.0\n",
      "Brisbane     2.6\n",
      "Adelaide     1.4\n",
      "Name: Population (M), dtype: float64\n",
      "\n",
      "Perth population: 2.1M\n",
      "\n",
      "Cities over 3M:\n",
      "Sydney       5.3\n",
      "Melbourne    5.0\n",
      "Name: Population (M), dtype: float64\n"
     ]
    }
   ],
   "source": [
    "# Create a Series with custom index\n",
    "cities = ['Perth', 'Sydney', 'Melbourne', 'Brisbane', 'Adelaide']\n",
    "populations = [2.1, 5.3, 5.0, 2.6, 1.4]  # in millions\n",
    "\n",
    "pop_series = pd.Series(populations, index=cities, name='Population (M)')\n",
    "print(pop_series)\n",
    "print(f\"\\nPerth population: {pop_series['Perth']}M\")\n",
    "print(f\"\\nCities over 3M:\")\n",
    "print(pop_series[pop_series > 3])"
   ]
  },
  {
   "cell_type": "markdown",
   "id": "b93cc6d3",
   "metadata": {},
   "source": [
    "**Exercise 2 — Product Inventory (medium)**  \n",
    "Create a Series for product inventory: iPhone:45, iPad:32, MacBook:18, AirPods:67.\n",
    "Find products with stock < 40.\n"
   ]
  },
  {
   "cell_type": "code",
   "execution_count": null,
   "id": "127850d0",
   "metadata": {},
   "outputs": [],
   "source": [
    "# Your turn\n"
   ]
  },
  {
   "cell_type": "markdown",
   "id": "22f25302",
   "metadata": {},
   "source": [
    "<details>\n",
    "<summary><b>Solution</b></summary>\n",
    "\n",
    "```python\n",
    "inventory = pd.Series(\n",
    "    {'iPhone': 45, 'iPad': 32, 'MacBook': 18, 'AirPods': 67},\n",
    "    name='Stock Count'\n",
    ")\n",
    "print(\"Current Inventory:\")\n",
    "print(inventory)\n",
    "print(\"\\nLow stock items (< 40):\")\n",
    "print(inventory[inventory < 40])\n",
    "```\n",
    "</details>"
   ]
  },
  {
   "cell_type": "markdown",
   "id": "86ac1848",
   "metadata": {},
   "source": [
    "## 3. Series Operations & Methods"
   ]
  },
  {
   "cell_type": "code",
   "execution_count": 19,
   "id": "f82fed82-bbc0-4273-b4cf-4745231567ed",
   "metadata": {},
   "outputs": [
    {
     "data": {
      "text/plain": [
       "Basic        99.99\n",
       "Standard    149.99\n",
       "Premium     199.99\n",
       "Student      79.99\n",
       "dtype: float64"
      ]
     },
     "execution_count": 19,
     "metadata": {},
     "output_type": "execute_result"
    }
   ],
   "source": [
    "prices = pd.Series([99.99, 149.99, 199.99, 79.99], \n",
    "                   index=['Basic', 'Standard', 'Premium', 'Student'])\n",
    "\n",
    "prices"
   ]
  },
  {
   "cell_type": "code",
   "execution_count": 20,
   "id": "948a3661-2494-40e5-bd04-85cfb8856e73",
   "metadata": {},
   "outputs": [
    {
     "data": {
      "text/plain": [
       "Basic        79.992\n",
       "Standard    119.992\n",
       "Premium     159.992\n",
       "Student      63.992\n",
       "dtype: float64"
      ]
     },
     "execution_count": 20,
     "metadata": {},
     "output_type": "execute_result"
    }
   ],
   "source": [
    "discounted = prices * 0.8\n",
    "\n",
    "discounted"
   ]
  },
  {
   "cell_type": "code",
   "execution_count": 21,
   "id": "ddf3b8ab",
   "metadata": {},
   "outputs": [
    {
     "name": "stdout",
     "output_type": "stream",
     "text": [
      "Original prices:\n",
      "Basic        99.99\n",
      "Standard    149.99\n",
      "Premium     199.99\n",
      "Student      79.99\n",
      "dtype: float64\n",
      "\n",
      "After 20% discount:\n",
      "Basic        79.99\n",
      "Standard    119.99\n",
      "Premium     159.99\n",
      "Student      63.99\n",
      "dtype: float64\n",
      "\n",
      "Price stats:\n",
      "Mean: $132.49\n",
      "Median: $124.99\n",
      "Std Dev: $53.77\n"
     ]
    }
   ],
   "source": [
    "# Mathematical operations work element-wise\n",
    "prices = pd.Series([99.99, 149.99, 199.99, 79.99], \n",
    "                   index=['Basic', 'Standard', 'Premium', 'Student'])\n",
    "\n",
    "# Apply 20% discount\n",
    "discounted = prices * 0.8\n",
    "print(\"Original prices:\")\n",
    "print(prices)\n",
    "print(\"\\nAfter 20% discount:\")\n",
    "print(discounted.round(2))\n",
    "\n",
    "# Useful methods\n",
    "print(f\"\\nPrice stats:\")\n",
    "print(f\"Mean: ${prices.mean():.2f}\")\n",
    "print(f\"Median: ${prices.median():.2f}\")\n",
    "print(f\"Std Dev: ${prices.std():.2f}\")"
   ]
  },
  {
   "cell_type": "markdown",
   "id": "f8c85c5e",
   "metadata": {},
   "source": [
    "## 4. Handling Missing Data"
   ]
  },
  {
   "cell_type": "code",
   "execution_count": 36,
   "id": "afdbd6b9",
   "metadata": {},
   "outputs": [
    {
     "name": "stdout",
     "output_type": "stream",
     "text": [
      "Sales with missing data:\n",
      "Mon    1200.0\n",
      "Tue       NaN\n",
      "Wed    1450.0\n",
      "Thu     980.0\n",
      "Fri       NaN\n",
      "Sat    1680.0\n",
      "dtype: float64\n",
      "\n",
      "Count of missing: 2\n",
      "Mean (ignoring NaN): $1327.50\n",
      "\n",
      "After filling with mean:\n",
      "Mon    1200.0\n",
      "Tue    1327.5\n",
      "Wed    1450.0\n",
      "Thu     980.0\n",
      "Fri    1327.5\n",
      "Sat    1680.0\n",
      "dtype: float64\n"
     ]
    }
   ],
   "source": [
    "# Real data often has missing values\n",
    "sales = pd.Series([1200, None, 1450, 980, None, 1680],\n",
    "                  index=['Mon', 'Tue', 'Wed', 'Thu', 'Fri', 'Sat'])\n",
    "print(\"Sales with missing data:\")\n",
    "print(sales)\n",
    "print(f\"\\nCount of missing: {sales.isna().sum()}\")\n",
    "print(f\"Mean (ignoring NaN): ${sales.mean():.2f}\")\n",
    "\n",
    "# Fill missing values\n",
    "sales_filled = sales.fillna(sales.mean())\n",
    "print(\"\\nAfter filling with mean:\")\n",
    "print(sales_filled.round(2))"
   ]
  },
  {
   "cell_type": "markdown",
   "id": "17f39466",
   "metadata": {},
   "source": [
    "**Exercise 3 — Temperature Analysis (medium)**  \n",
    "Given a week of temperatures with some missing values, fill them with the median and find days above average.\n"
   ]
  },
  {
   "cell_type": "code",
   "execution_count": null,
   "id": "64f3255a",
   "metadata": {},
   "outputs": [],
   "source": [
    "# Your turn\n",
    "# temps = pd.Series([22.5, None, 24.1, 23.8, None, 25.2, 21.9],\n",
    "#                   index=['Mon', 'Tue', 'Wed', 'Thu', 'Fri', 'Sat', 'Sun'])\n"
   ]
  },
  {
   "cell_type": "markdown",
   "id": "a54870cb",
   "metadata": {},
   "source": [
    "<details>\n",
    "<summary><b>Solution</b></summary>\n",
    "\n",
    "```python\n",
    "temps = pd.Series([22.5, None, 24.1, 23.8, None, 25.2, 21.9],\n",
    "                  index=['Mon', 'Tue', 'Wed', 'Thu', 'Fri', 'Sat', 'Sun'])\n",
    "print(\"Original temperatures:\")\n",
    "print(temps)\n",
    "\n",
    "# Fill with median\n",
    "temps_filled = temps.fillna(temps.median())\n",
    "print(\"\\nFilled temperatures:\")\n",
    "print(temps_filled)\n",
    "\n",
    "# Find above average days\n",
    "avg_temp = temps_filled.mean()\n",
    "print(f\"\\nAverage: {avg_temp:.1f}°C\")\n",
    "print(\"\\nDays above average:\")\n",
    "print(temps_filled[temps_filled > avg_temp])\n",
    "```\n",
    "</details>"
   ]
  },
  {
   "cell_type": "markdown",
   "id": "b93813ac",
   "metadata": {},
   "source": [
    "## 5. Series Alignment & Combining"
   ]
  },
  {
   "cell_type": "code",
   "execution_count": 39,
   "id": "4b637638-23f0-404f-8a98-cae605831e0f",
   "metadata": {},
   "outputs": [
    {
     "name": "stdout",
     "output_type": "stream",
     "text": [
      "Q1 Sales:\n",
      "Product_A    100\n",
      "Product_B    150\n",
      "Product_C    200\n",
      "dtype: int64\n",
      "\n",
      "Q2 Sales:\n",
      "Product_B    180\n",
      "Product_C    220\n",
      "Product_D     90\n",
      "dtype: int64\n"
     ]
    }
   ],
   "source": [
    "# Pandas aligns by index automatically!\n",
    "q1_sales = pd.Series({'Product_A': 100, 'Product_B': 150, 'Product_C': 200})\n",
    "q2_sales = pd.Series({'Product_B': 180, 'Product_C': 220, 'Product_D': 90})\n",
    "\n",
    "print(\"Q1 Sales:\")\n",
    "print(q1_sales)\n",
    "print(\"\\nQ2 Sales:\")\n",
    "print(q2_sales)"
   ]
  },
  {
   "cell_type": "code",
   "execution_count": 40,
   "id": "9f70e311",
   "metadata": {},
   "outputs": [
    {
     "name": "stdout",
     "output_type": "stream",
     "text": [
      "\n",
      "Total Sales (Q1 + Q2):\n",
      "Product_A    100.0\n",
      "Product_B    330.0\n",
      "Product_C    420.0\n",
      "Product_D     90.0\n",
      "dtype: float64\n"
     ]
    }
   ],
   "source": [
    "\n",
    "\n",
    "# Addition aligns by index\n",
    "total_sales = q1_sales.add(q2_sales, fill_value=0)\n",
    "print(\"\\nTotal Sales (Q1 + Q2):\")\n",
    "print(total_sales)"
   ]
  },
  {
   "cell_type": "markdown",
   "id": "de98963a",
   "metadata": {},
   "source": [
    "**Exercise 4 — Revenue Calculator (hard)**  \n",
    "Given prices and quantities sold, calculate total revenue per product and overall total.\n"
   ]
  },
  {
   "cell_type": "code",
   "execution_count": null,
   "id": "9b7b1b10",
   "metadata": {},
   "outputs": [],
   "source": [
    "# Your turn\n",
    "# prices = pd.Series({'Laptop': 1200, 'Mouse': 25, 'Keyboard': 80, 'Monitor': 350})\n",
    "# quantities = pd.Series({'Laptop': 5, 'Mouse': 45, 'Keyboard': 30, 'Webcam': 15})\n"
   ]
  },
  {
   "cell_type": "markdown",
   "id": "4cecfa82",
   "metadata": {},
   "source": [
    "<details>\n",
    "<summary><b>Solution</b></summary>\n",
    "\n",
    "```python\n",
    "prices = pd.Series({'Laptop': 1200, 'Mouse': 25, 'Keyboard': 80, 'Monitor': 350})\n",
    "quantities = pd.Series({'Laptop': 5, 'Mouse': 45, 'Keyboard': 30, 'Webcam': 15})\n",
    "\n",
    "# Calculate revenue (handles mismatched indices)\n",
    "revenue = prices * quantities\n",
    "print(\"Revenue per product:\")\n",
    "print(revenue.dropna())  # Drop products we can't calculate\n",
    "\n",
    "print(f\"\\nTotal revenue: ${revenue.sum():.2f}\")\n",
    "print(f\"Best seller: {revenue.idxmax()} (${revenue.max():.2f})\")\n",
    "```\n",
    "</details>"
   ]
  },
  {
   "cell_type": "markdown",
   "id": "8f88bba8",
   "metadata": {},
   "source": [
    "## 6. Mini-Challenges\n",
    "- **M1 (easy):** Create a Series of 10 random numbers and find values > mean\n",
    "- **M2 (medium):** Create a grade Series, convert letter grades to numeric (A=4, B=3, etc.)\n",
    "- **M3 (hard):** Combine two Series with different indices and calculate percentage change"
   ]
  },
  {
   "cell_type": "code",
   "execution_count": null,
   "id": "0f834bfd",
   "metadata": {},
   "outputs": [],
   "source": [
    "# Your turn - try the challenges!\n"
   ]
  },
  {
   "cell_type": "markdown",
   "id": "b1a2e9d0",
   "metadata": {},
   "source": [
    "<details>\n",
    "<summary><b>Solutions</b></summary>\n",
    "\n",
    "```python\n",
    "# M1\n",
    "random_series = pd.Series(np.random.randn(10))\n",
    "print(random_series[random_series > random_series.mean()])\n",
    "\n",
    "# M2\n",
    "grades = pd.Series(['A', 'B', 'A', 'C', 'B', 'D'])\n",
    "grade_map = {'A': 4, 'B': 3, 'C': 2, 'D': 1, 'F': 0}\n",
    "numeric_grades = grades.map(grade_map)\n",
    "print(f\"GPA: {numeric_grades.mean():.2f}\")\n",
    "\n",
    "# M3\n",
    "jan = pd.Series({'A': 100, 'B': 200, 'C': 150})\n",
    "feb = pd.Series({'B': 220, 'C': 140, 'D': 80})\n",
    "pct_change = ((feb - jan) / jan * 100).round(2)\n",
    "print(pct_change.dropna())\n",
    "```\n",
    "</details>"
   ]
  },
  {
   "cell_type": "markdown",
   "id": "aba28e65",
   "metadata": {},
   "source": [
    "## Wrap-Up & Next Steps\n",
    "✅ You've mastered Series - the building block of DataFrames!  \n",
    "✅ You can create, filter, and manipulate data efficiently  \n",
    "✅ You understand index alignment and missing data handling  \n",
    "\n",
    "**Next:** DataFrames - think of them as multiple Series combined into a table!\n"
   ]
  }
 ],
 "metadata": {
  "kernelspec": {
   "display_name": "Python 3 (ipykernel)",
   "language": "python",
   "name": "python3"
  },
  "language_info": {
   "codemirror_mode": {
    "name": "ipython",
    "version": 3
   },
   "file_extension": ".py",
   "mimetype": "text/x-python",
   "name": "python",
   "nbconvert_exporter": "python",
   "pygments_lexer": "ipython3",
   "version": "3.13.1"
  }
 },
 "nbformat": 4,
 "nbformat_minor": 5
}
